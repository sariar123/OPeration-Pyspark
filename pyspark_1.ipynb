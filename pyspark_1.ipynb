{
 "cells": [
  {
   "cell_type": "code",
   "execution_count": 1,
   "id": "77bf5e3a",
   "metadata": {},
   "outputs": [],
   "source": [
    "#!pip install pyspark"
   ]
  },
  {
   "cell_type": "code",
   "execution_count": 2,
   "id": "68e67c02",
   "metadata": {},
   "outputs": [],
   "source": [
    "#import pyspark"
   ]
  },
  {
   "cell_type": "code",
   "execution_count": 3,
   "id": "b6a5b790",
   "metadata": {},
   "outputs": [],
   "source": [
    "#pyspark"
   ]
  },
  {
   "cell_type": "code",
   "execution_count": 4,
   "id": "a4175972",
   "metadata": {},
   "outputs": [],
   "source": [
    "from pyspark.sql import SparkSession"
   ]
  },
  {
   "cell_type": "code",
   "execution_count": 5,
   "id": "9ad9f703",
   "metadata": {},
   "outputs": [],
   "source": [
    "spark=SparkSession.builder.appName('mypractice').getOrCreate()"
   ]
  },
  {
   "cell_type": "code",
   "execution_count": 6,
   "id": "e51b0122",
   "metadata": {},
   "outputs": [],
   "source": [
    "df_srk=spark.read.csv('D:\\spark\\BPD_Employee_File_As_Of__06_09_2016.csv')"
   ]
  },
  {
   "cell_type": "code",
   "execution_count": 7,
   "id": "62dc5487",
   "metadata": {},
   "outputs": [],
   "source": [
    "emp=spark.read.csv('D:\\spark\\emp.csv',header=True,inferSchema=True)\n",
    "dept=spark.read.csv('D:\\spark\\dept.csv',header=True,inferSchema=True)\n",
    "sal=spark.read.csv('D:\\spark\\sal.csv',header=True,inferSchema=True)\n",
    "#emp.show()"
   ]
  },
  {
   "cell_type": "code",
   "execution_count": 8,
   "id": "caa57107",
   "metadata": {},
   "outputs": [
    {
     "name": "stdout",
     "output_type": "stream",
     "text": [
      "+-------+------------------+-----+--------+------------------+--------+------------------+-----------------+------------------+\n",
      "|summary|             empno|ename|     job|               mgr|hiredate|               sal|             comm|            deptno|\n",
      "+-------+------------------+-----+--------+------------------+--------+------------------+-----------------+------------------+\n",
      "|  count|                14|   14|      14|                13|      14|                14|                6|                14|\n",
      "|   mean| 7726.571428571428| null|    null| 7739.307692307692|    null| 2073.214285714286|366.6666666666667|22.142857142857142|\n",
      "| stddev|178.29436087795662| null|    null|103.71466033898376|    null|1182.5032235162716|546.5040408511785| 8.017837257372731|\n",
      "|    min|              7369|ADAMS| ANALYST|              7566|01/21/00|               800|                0|                10|\n",
      "|    max|              7934| WARD|SALESMAN|              7902|12/05/98|              5000|             1400|                30|\n",
      "+-------+------------------+-----+--------+------------------+--------+------------------+-----------------+------------------+\n",
      "\n"
     ]
    }
   ],
   "source": [
    "emp.describe().show()"
   ]
  },
  {
   "cell_type": "code",
   "execution_count": 9,
   "id": "f6cd1635",
   "metadata": {},
   "outputs": [
    {
     "name": "stdout",
     "output_type": "stream",
     "text": [
      "+-----+------+---------+----+--------+----+----+------+\n",
      "|empno| ename|      job| mgr|hiredate| sal|comm|deptno|\n",
      "+-----+------+---------+----+--------+----+----+------+\n",
      "| 7369| SMITH|    CLERK|7902|06/13/93| 800|   0|    20|\n",
      "| 7499| ALLEN| SALESMAN|7698|08/15/98|1600| 300|    30|\n",
      "| 7521|  WARD| SALESMAN|7698|03/26/96|1250| 500|    30|\n",
      "| 7566| JONES|  MANAGER|7839|10/31/95|2975|null|    20|\n",
      "| 7698| BLAKE|  MANAGER|7839|06/11/92|2850|null|    30|\n",
      "| 7782| CLARK|  MANAGER|7839|05/14/93|2450|null|    10|\n",
      "| 7788| SCOTT|  ANALYST|7566|03/05/96|3000|null|    20|\n",
      "| 7839|  KING|PRESIDENT|null|06/09/90|5000|   0|    10|\n",
      "| 7844|TURNER| SALESMAN|7698|06/04/95|1500|   0|    30|\n",
      "| 7876| ADAMS|    CLERK|7788|06/04/99|1100|null|    20|\n",
      "| 7900| JAMES|    CLERK|7698|06/23/00| 950|null|    30|\n",
      "| 7934|MILLER|    CLERK|7782|01/21/00|1300|null|    10|\n",
      "| 7902|  FORD|  ANALYST|7566|12/05/97|3000|null|    20|\n",
      "| 7654|MARTIN| SALESMAN|7698|12/05/98|1250|1400|    30|\n",
      "+-----+------+---------+----+--------+----+----+------+\n",
      "\n"
     ]
    }
   ],
   "source": [
    "emp.show()"
   ]
  },
  {
   "cell_type": "code",
   "execution_count": 10,
   "id": "4eab5d6e",
   "metadata": {},
   "outputs": [
    {
     "name": "stdout",
     "output_type": "stream",
     "text": [
      "+-----+------+---------+----+--------+----+----+------+\n",
      "|empno| ename|      job| mgr|hiredate| sal|comm|deptno|\n",
      "+-----+------+---------+----+--------+----+----+------+\n",
      "| 7566| JONES|  MANAGER|7839|10/31/95|2975|null|    20|\n",
      "| 7698| BLAKE|  MANAGER|7839|06/11/92|2850|null|    30|\n",
      "| 7782| CLARK|  MANAGER|7839|05/14/93|2450|null|    10|\n",
      "| 7788| SCOTT|  ANALYST|7566|03/05/96|3000|null|    20|\n",
      "| 7839|  KING|PRESIDENT|null|06/09/90|5000|   0|    10|\n",
      "| 7876| ADAMS|    CLERK|7788|06/04/99|1100|null|    20|\n",
      "| 7900| JAMES|    CLERK|7698|06/23/00| 950|null|    30|\n",
      "| 7934|MILLER|    CLERK|7782|01/21/00|1300|null|    10|\n",
      "| 7902|  FORD|  ANALYST|7566|12/05/97|3000|null|    20|\n",
      "+-----+------+---------+----+--------+----+----+------+\n",
      "\n"
     ]
    }
   ],
   "source": [
    "emp.where(emp.mgr.isNull()|emp.comm.isNull()).show()"
   ]
  },
  {
   "cell_type": "code",
   "execution_count": 11,
   "id": "1c365756",
   "metadata": {},
   "outputs": [
    {
     "name": "stdout",
     "output_type": "stream",
     "text": [
      "+-----+------+--------+----+--------+----+----+------+\n",
      "|empno| ename|     job| mgr|hiredate| sal|comm|deptno|\n",
      "+-----+------+--------+----+--------+----+----+------+\n",
      "| 7369| SMITH|   CLERK|7902|06/13/93| 800|   0|    20|\n",
      "| 7499| ALLEN|SALESMAN|7698|08/15/98|1600| 300|    30|\n",
      "| 7521|  WARD|SALESMAN|7698|03/26/96|1250| 500|    30|\n",
      "| 7566| JONES| MANAGER|7839|10/31/95|2975|null|    20|\n",
      "| 7698| BLAKE| MANAGER|7839|06/11/92|2850|null|    30|\n",
      "| 7782| CLARK| MANAGER|7839|05/14/93|2450|null|    10|\n",
      "| 7788| SCOTT| ANALYST|7566|03/05/96|3000|null|    20|\n",
      "| 7844|TURNER|SALESMAN|7698|06/04/95|1500|   0|    30|\n",
      "| 7876| ADAMS|   CLERK|7788|06/04/99|1100|null|    20|\n",
      "| 7900| JAMES|   CLERK|7698|06/23/00| 950|null|    30|\n",
      "| 7934|MILLER|   CLERK|7782|01/21/00|1300|null|    10|\n",
      "| 7902|  FORD| ANALYST|7566|12/05/97|3000|null|    20|\n",
      "| 7654|MARTIN|SALESMAN|7698|12/05/98|1250|1400|    30|\n",
      "+-----+------+--------+----+--------+----+----+------+\n",
      "\n"
     ]
    }
   ],
   "source": [
    "emp.na.drop(how='any',subset=['mgr']).show()"
   ]
  },
  {
   "cell_type": "code",
   "execution_count": 12,
   "id": "77ddc5a6",
   "metadata": {},
   "outputs": [
    {
     "name": "stdout",
     "output_type": "stream",
     "text": [
      "+-----+------+---------+-----+--------+----+-----+------+\n",
      "|empno| ename|      job|  mgr|hiredate| sal| comm|deptno|\n",
      "+-----+------+---------+-----+--------+----+-----+------+\n",
      "| 7369| SMITH|    CLERK| 7902|06/13/93| 800|    0|    20|\n",
      "| 7499| ALLEN| SALESMAN| 7698|08/15/98|1600|  300|    30|\n",
      "| 7521|  WARD| SALESMAN| 7698|03/26/96|1250|  500|    30|\n",
      "| 7566| JONES|  MANAGER| 7839|10/31/95|2975|22222|    20|\n",
      "| 7698| BLAKE|  MANAGER| 7839|06/11/92|2850|22222|    30|\n",
      "| 7782| CLARK|  MANAGER| 7839|05/14/93|2450|22222|    10|\n",
      "| 7788| SCOTT|  ANALYST| 7566|03/05/96|3000|22222|    20|\n",
      "| 7839|  KING|PRESIDENT|22222|06/09/90|5000|    0|    10|\n",
      "| 7844|TURNER| SALESMAN| 7698|06/04/95|1500|    0|    30|\n",
      "| 7876| ADAMS|    CLERK| 7788|06/04/99|1100|22222|    20|\n",
      "| 7900| JAMES|    CLERK| 7698|06/23/00| 950|22222|    30|\n",
      "| 7934|MILLER|    CLERK| 7782|01/21/00|1300|22222|    10|\n",
      "| 7902|  FORD|  ANALYST| 7566|12/05/97|3000|22222|    20|\n",
      "| 7654|MARTIN| SALESMAN| 7698|12/05/98|1250| 1400|    30|\n",
      "+-----+------+---------+-----+--------+----+-----+------+\n",
      "\n"
     ]
    }
   ],
   "source": [
    "#while filling use only same data type\n",
    "emp.na.fill(22222,['mgr','comm']).show()"
   ]
  },
  {
   "cell_type": "code",
   "execution_count": 13,
   "id": "71947eb6",
   "metadata": {},
   "outputs": [],
   "source": [
    "from pyspark.ml.feature import Imputer\n",
    "impute=Imputer(inputCols=['mgr','comm'],outputCols=['{}_imputed'.format(c) for c in ['mgr','comm']]).setStrategy('mean')"
   ]
  },
  {
   "cell_type": "code",
   "execution_count": 14,
   "id": "89c17c1d",
   "metadata": {},
   "outputs": [
    {
     "name": "stdout",
     "output_type": "stream",
     "text": [
      "+-----+------+---------+----+--------+----+----+------+-----------+------------+\n",
      "|empno| ename|      job| mgr|hiredate| sal|comm|deptno|mgr_imputed|comm_imputed|\n",
      "+-----+------+---------+----+--------+----+----+------+-----------+------------+\n",
      "| 7369| SMITH|    CLERK|7902|06/13/93| 800|   0|    20|       7902|           0|\n",
      "| 7499| ALLEN| SALESMAN|7698|08/15/98|1600| 300|    30|       7698|         300|\n",
      "| 7521|  WARD| SALESMAN|7698|03/26/96|1250| 500|    30|       7698|         500|\n",
      "| 7566| JONES|  MANAGER|7839|10/31/95|2975|null|    20|       7839|         366|\n",
      "| 7698| BLAKE|  MANAGER|7839|06/11/92|2850|null|    30|       7839|         366|\n",
      "| 7782| CLARK|  MANAGER|7839|05/14/93|2450|null|    10|       7839|         366|\n",
      "| 7788| SCOTT|  ANALYST|7566|03/05/96|3000|null|    20|       7566|         366|\n",
      "| 7839|  KING|PRESIDENT|null|06/09/90|5000|   0|    10|       7739|           0|\n",
      "| 7844|TURNER| SALESMAN|7698|06/04/95|1500|   0|    30|       7698|           0|\n",
      "| 7876| ADAMS|    CLERK|7788|06/04/99|1100|null|    20|       7788|         366|\n",
      "| 7900| JAMES|    CLERK|7698|06/23/00| 950|null|    30|       7698|         366|\n",
      "| 7934|MILLER|    CLERK|7782|01/21/00|1300|null|    10|       7782|         366|\n",
      "| 7902|  FORD|  ANALYST|7566|12/05/97|3000|null|    20|       7566|         366|\n",
      "| 7654|MARTIN| SALESMAN|7698|12/05/98|1250|1400|    30|       7698|        1400|\n",
      "+-----+------+---------+----+--------+----+----+------+-----------+------------+\n",
      "\n"
     ]
    }
   ],
   "source": [
    "impute.fit(emp).transform(emp).show()"
   ]
  },
  {
   "cell_type": "code",
   "execution_count": 15,
   "id": "e7c76d4a",
   "metadata": {},
   "outputs": [
    {
     "name": "stdout",
     "output_type": "stream",
     "text": [
      "+----+\n",
      "| mgr|\n",
      "+----+\n",
      "|7698|\n",
      "|7698|\n",
      "|7839|\n",
      "|7839|\n",
      "|7839|\n",
      "|7566|\n",
      "|null|\n",
      "|7698|\n",
      "|7788|\n",
      "|7782|\n",
      "|7566|\n",
      "|7698|\n",
      "+----+\n",
      "\n"
     ]
    }
   ],
   "source": [
    "emp.filter(emp.sal>1000).select('mgr').show()"
   ]
  },
  {
   "cell_type": "code",
   "execution_count": 16,
   "id": "b8969802",
   "metadata": {},
   "outputs": [
    {
     "name": "stdout",
     "output_type": "stream",
     "text": [
      "+----+----------+--------+--------+---------+-----------+\n",
      "| mgr|sum(empno)|sum(mgr)|sum(sal)|sum(comm)|sum(deptno)|\n",
      "+----+----------+--------+--------+---------+-----------+\n",
      "|7902|      7369|    7902|     800|        0|         20|\n",
      "|7698|     38418|   38490|    6550|     2200|        150|\n",
      "|7839|     23046|   23517|    8275|     null|         60|\n",
      "|7566|     15690|   15132|    6000|     null|         40|\n",
      "|7788|      7876|    7788|    1100|     null|         20|\n",
      "|7782|      7934|    7782|    1300|     null|         10|\n",
      "|null|      7839|    null|    5000|        0|         10|\n",
      "+----+----------+--------+--------+---------+-----------+\n",
      "\n"
     ]
    }
   ],
   "source": [
    "emp.groupBy('mgr').sum().show()"
   ]
  },
  {
   "cell_type": "code",
   "execution_count": 17,
   "id": "b801c2c4",
   "metadata": {},
   "outputs": [
    {
     "name": "stdout",
     "output_type": "stream",
     "text": [
      "+------+--------+\n",
      "|deptno|sum(sal)|\n",
      "+------+--------+\n",
      "|    20|   10875|\n",
      "|    30|    9400|\n",
      "|    10|    8750|\n",
      "+------+--------+\n",
      "\n"
     ]
    }
   ],
   "source": [
    "emp.groupBy('deptno').sum('sal').show()"
   ]
  },
  {
   "cell_type": "code",
   "execution_count": 18,
   "id": "22c5ab26",
   "metadata": {},
   "outputs": [
    {
     "name": "stdout",
     "output_type": "stream",
     "text": [
      "+------+------------------+\n",
      "|deptno|          avg(sal)|\n",
      "+------+------------------+\n",
      "|    20|            2175.0|\n",
      "|    30|1566.6666666666667|\n",
      "|    10|2916.6666666666665|\n",
      "+------+------------------+\n",
      "\n"
     ]
    }
   ],
   "source": [
    "emp.groupBy('deptno').mean('sal').show()"
   ]
  },
  {
   "cell_type": "code",
   "execution_count": 19,
   "id": "1eef213e",
   "metadata": {},
   "outputs": [
    {
     "name": "stdout",
     "output_type": "stream",
     "text": [
      "+------+-----+\n",
      "|deptno|count|\n",
      "+------+-----+\n",
      "|    20|    5|\n",
      "|    30|    6|\n",
      "|    10|    3|\n",
      "+------+-----+\n",
      "\n"
     ]
    }
   ],
   "source": [
    "emp.groupBy('deptno').count().show()"
   ]
  },
  {
   "cell_type": "code",
   "execution_count": 20,
   "id": "7e0bbcd6",
   "metadata": {},
   "outputs": [],
   "source": [
    "#data frame APPI\n",
    "emp_ss=emp['empno','deptno','sal']"
   ]
  },
  {
   "cell_type": "code",
   "execution_count": 22,
   "id": "269bea61",
   "metadata": {},
   "outputs": [],
   "source": [
    "###Raghu scenarios and basic operations\n",
    "#1.Rank function \n",
    "#2.All types of joins especially self join\n",
    "#3.Basic column operations addition/cast/drop/na.drop/na.fill\n",
    "#4#.Level query\n",
    "#5.Top sal query\n",
    "#6.Date format handling\n",
    "#7.Merge query/Union query\n",
    "#8.subquery/deletion of duplicates\n",
    "#9.with clause in spark\n",
    "#10.data frame API\n"
   ]
  },
  {
   "cell_type": "code",
   "execution_count": 23,
   "id": "c073442d",
   "metadata": {},
   "outputs": [
    {
     "name": "stdout",
     "output_type": "stream",
     "text": [
      "+------+--------+\n",
      "|deptno|max(sal)|\n",
      "+------+--------+\n",
      "|    20|    3000|\n",
      "|    30|    2850|\n",
      "|    10|    5000|\n",
      "+------+--------+\n",
      "\n"
     ]
    }
   ],
   "source": [
    "#top salary\n",
    "emp.groupBy('deptno').max('sal').show()"
   ]
  },
  {
   "cell_type": "code",
   "execution_count": 26,
   "id": "5d8e20c1",
   "metadata": {},
   "outputs": [],
   "source": [
    "from pyspark.sql.functions import *\n",
    "from pyspark.sql.window import Window"
   ]
  },
  {
   "cell_type": "code",
   "execution_count": 27,
   "id": "4e90a1a2",
   "metadata": {},
   "outputs": [
    {
     "name": "stdout",
     "output_type": "stream",
     "text": [
      "+-----+------+-----+----+--------+----+----+------+--------+\n",
      "|empno| ename|  job| mgr|hiredate| sal|comm|deptno|rank_sal|\n",
      "+-----+------+-----+----+--------+----+----+------+--------+\n",
      "| 7934|MILLER|CLERK|7782|01/21/00|1300|null|    10|       1|\n",
      "| 7369| SMITH|CLERK|7902|06/13/93| 800|   0|    20|       1|\n",
      "| 7900| JAMES|CLERK|7698|06/23/00| 950|null|    30|       1|\n",
      "+-----+------+-----+----+--------+----+----+------+--------+\n",
      "\n"
     ]
    }
   ],
   "source": [
    "emp_rank=emp.withColumn('rank_sal',rank().over(Window.partitionBy('deptno').orderBy('sal')))\n",
    "emp_rank.where(col('rank_sal')==1).show()"
   ]
  },
  {
   "cell_type": "code",
   "execution_count": 28,
   "id": "fa9555f3",
   "metadata": {},
   "outputs": [
    {
     "data": {
      "text/plain": [
       "['empno', 'ename', 'job', 'mgr', 'hiredate', 'sal', 'comm', 'deptno']"
      ]
     },
     "execution_count": 28,
     "metadata": {},
     "output_type": "execute_result"
    }
   ],
   "source": [
    "emp.columns"
   ]
  },
  {
   "cell_type": "code",
   "execution_count": 29,
   "id": "01ccda63",
   "metadata": {},
   "outputs": [
    {
     "name": "stdout",
     "output_type": "stream",
     "text": [
      "+-----+-----+---------+----+--------+----+----+------+\n",
      "|empno|ename|      job| mgr|hiredate| sal|comm|deptno|\n",
      "+-----+-----+---------+----+--------+----+----+------+\n",
      "| 7839| KING|PRESIDENT|null|06/09/90|5000|   0|    10|\n",
      "+-----+-----+---------+----+--------+----+----+------+\n",
      "\n"
     ]
    }
   ],
   "source": [
    "emp.where(emp.mgr.isNull()).show()"
   ]
  },
  {
   "cell_type": "code",
   "execution_count": 30,
   "id": "7a65a865",
   "metadata": {},
   "outputs": [
    {
     "name": "stdout",
     "output_type": "stream",
     "text": [
      "+-----+------+---------+----+--------+----+----+------+----------+\n",
      "|empno| ename|      job| mgr|hiredate| sal|comm|deptno|normalrank|\n",
      "+-----+------+---------+----+--------+----+----+------+----------+\n",
      "| 7782| CLARK|  MANAGER|7839|05/14/93|2450|null|    10|         1|\n",
      "| 7839|  KING|PRESIDENT|null|06/09/90|5000|   0|    10|         2|\n",
      "| 7934|MILLER|    CLERK|7782|01/21/00|1300|null|    10|         3|\n",
      "| 7369| SMITH|    CLERK|7902|06/13/93| 800|   0|    20|         1|\n",
      "| 7566| JONES|  MANAGER|7839|10/31/95|2975|null|    20|         2|\n",
      "| 7788| SCOTT|  ANALYST|7566|03/05/96|3000|null|    20|         3|\n",
      "| 7876| ADAMS|    CLERK|7788|06/04/99|1100|null|    20|         4|\n",
      "| 7902|  FORD|  ANALYST|7566|12/05/97|3000|null|    20|         5|\n",
      "| 7499| ALLEN| SALESMAN|7698|08/15/98|1600| 300|    30|         1|\n",
      "| 7521|  WARD| SALESMAN|7698|03/26/96|1250| 500|    30|         2|\n",
      "| 7654|MARTIN| SALESMAN|7698|12/05/98|1250|1400|    30|         3|\n",
      "| 7698| BLAKE|  MANAGER|7839|06/11/92|2850|null|    30|         4|\n",
      "| 7844|TURNER| SALESMAN|7698|06/04/95|1500|   0|    30|         5|\n",
      "| 7900| JAMES|    CLERK|7698|06/23/00| 950|null|    30|         6|\n",
      "+-----+------+---------+----+--------+----+----+------+----------+\n",
      "\n"
     ]
    }
   ],
   "source": [
    "#emp.withColumn(\"denserank\",dense_rank().over(Window.partitionBy('deptno').orderBy('empno'))).show()\n",
    "emp.withColumn(\"normalrank\",rank().over(Window.partitionBy('deptno').orderBy('empno'))).show()"
   ]
  },
  {
   "cell_type": "code",
   "execution_count": 31,
   "id": "30d947b5",
   "metadata": {},
   "outputs": [
    {
     "name": "stdout",
     "output_type": "stream",
     "text": [
      "+-----+----+---------+----+\n",
      "|empno| mgr|      job| sal|\n",
      "+-----+----+---------+----+\n",
      "| 7566|7566|  MANAGER|2975|\n",
      "| 7566|7566|  MANAGER|2975|\n",
      "| 7698|7698|  MANAGER|2850|\n",
      "| 7698|7698|  MANAGER|2850|\n",
      "| 7698|7698|  MANAGER|2850|\n",
      "| 7698|7698|  MANAGER|2850|\n",
      "| 7698|7698|  MANAGER|2850|\n",
      "| 7782|7782|  MANAGER|2450|\n",
      "| 7788|7788|  ANALYST|3000|\n",
      "| 7839|7839|PRESIDENT|5000|\n",
      "| 7839|7839|PRESIDENT|5000|\n",
      "| 7839|7839|PRESIDENT|5000|\n",
      "| 7902|7902|  ANALYST|3000|\n",
      "+-----+----+---------+----+\n",
      "\n"
     ]
    }
   ],
   "source": [
    "#joins\n",
    "emp.alias(\"df1\").join(emp.alias(\"df2\"),col(\"df1.empno\")==col(\"df2.mgr\")).\\\n",
    "select (col('df1.empno'),col('df2.mgr'),\n",
    "col('df1.job'),col('df1.sal')).show()\n"
   ]
  },
  {
   "cell_type": "code",
   "execution_count": 32,
   "id": "eabddf2e",
   "metadata": {},
   "outputs": [
    {
     "name": "stdout",
     "output_type": "stream",
     "text": [
      "root\n",
      " |-- empno: integer (nullable = true)\n",
      " |-- ename: string (nullable = true)\n",
      " |-- job: string (nullable = true)\n",
      " |-- mgr: integer (nullable = true)\n",
      " |-- hiredate: string (nullable = true)\n",
      " |-- sal: integer (nullable = true)\n",
      " |-- comm: integer (nullable = true)\n",
      " |-- deptno: integer (nullable = true)\n",
      "\n"
     ]
    }
   ],
   "source": [
    "emp.printSchema()"
   ]
  },
  {
   "cell_type": "code",
   "execution_count": 33,
   "id": "4615bb44",
   "metadata": {},
   "outputs": [
    {
     "name": "stdout",
     "output_type": "stream",
     "text": [
      "+-----+------+---------+----+--------+----+----+------+\n",
      "|empno| ename|      job| mgr|hiredate| sal|comm|deptno|\n",
      "+-----+------+---------+----+--------+----+----+------+\n",
      "| 7369| SMITH|    CLERK|7902|06/13/93| 800|   0|    20|\n",
      "| 7499| ALLEN| SALESMAN|7698|08/15/98|1600| 300|    30|\n",
      "| 7521|  WARD| SALESMAN|7698|03/26/96|1250| 500|    30|\n",
      "| 7566| JONES|  MANAGER|7839|10/31/95|2975|null|    20|\n",
      "| 7698| BLAKE|  MANAGER|7839|06/11/92|2850|null|    30|\n",
      "| 7782| CLARK|  MANAGER|7839|05/14/93|2450|null|    10|\n",
      "| 7788| SCOTT|  ANALYST|7566|03/05/96|3000|null|    20|\n",
      "| 7839|  KING|PRESIDENT|null|06/09/90|5000|   0|    10|\n",
      "| 7844|TURNER| SALESMAN|7698|06/04/95|1500|   0|    30|\n",
      "| 7876| ADAMS|    CLERK|7788|06/04/99|1100|null|    20|\n",
      "| 7900| JAMES|    CLERK|7698|06/23/00| 950|null|    30|\n",
      "| 7934|MILLER|    CLERK|7782|01/21/00|1300|null|    10|\n",
      "| 7902|  FORD|  ANALYST|7566|12/05/97|3000|null|    20|\n",
      "| 7654|MARTIN| SALESMAN|7698|12/05/98|1250|1400|    30|\n",
      "+-----+------+---------+----+--------+----+----+------+\n",
      "\n"
     ]
    }
   ],
   "source": [
    "emp.withColumn('empno',emp.empno.cast('string')).show()"
   ]
  },
  {
   "cell_type": "code",
   "execution_count": 34,
   "id": "7108219c",
   "metadata": {},
   "outputs": [
    {
     "name": "stdout",
     "output_type": "stream",
     "text": [
      "The sum of the list elements is : 17\n",
      "The maximum element of the list is : 6\n"
     ]
    }
   ],
   "source": [
    "# python code to demonstrate working of reduce()\n",
    " \n",
    "# importing functools for reduce()\n",
    "import functools\n",
    " \n",
    "# initializing list\n",
    "lis = [1, 3, 5, 6, 2, ]\n",
    " \n",
    "# using reduce to compute sum of list\n",
    "print(\"The sum of the list elements is : \", end=\"\")\n",
    "print(functools.reduce(lambda a, b: a+b, lis))\n",
    " \n",
    "# using reduce to compute maximum element from list\n",
    "print(\"The maximum element of the list is : \", end=\"\")\n",
    "print(functools.reduce(lambda a, b: a if a > b else b, lis))"
   ]
  },
  {
   "cell_type": "code",
   "execution_count": 35,
   "id": "6d243f49",
   "metadata": {},
   "outputs": [
    {
     "name": "stdout",
     "output_type": "stream",
     "text": [
      "24\n"
     ]
    }
   ],
   "source": [
    "from functools import reduce\n",
    "product = reduce((lambda x, y: x * y), [1, 2, 3, 4])\n",
    "print (product)"
   ]
  },
  {
   "cell_type": "code",
   "execution_count": 36,
   "id": "442bb40c",
   "metadata": {},
   "outputs": [
    {
     "data": {
      "text/plain": [
       "24"
      ]
     },
     "execution_count": 36,
     "metadata": {},
     "output_type": "execute_result"
    }
   ],
   "source": [
    "lis=[1,2,3,4]\n",
    "reduce(lambda a,b:a*b,lis)"
   ]
  },
  {
   "cell_type": "code",
   "execution_count": 37,
   "id": "79ead457",
   "metadata": {},
   "outputs": [
    {
     "name": "stdout",
     "output_type": "stream",
     "text": [
      "[0, 1, 2, 3, 4]\n"
     ]
    }
   ],
   "source": [
    "print (list(range(5)))"
   ]
  },
  {
   "cell_type": "code",
   "execution_count": 38,
   "id": "5234b96c",
   "metadata": {},
   "outputs": [
    {
     "name": "stdout",
     "output_type": "stream",
     "text": [
      "***1***\n",
      "***2***\n",
      "***3***\n",
      "***4***\n"
     ]
    }
   ],
   "source": [
    "for i in range(1,5):\n",
    "    v=str(i)\n",
    "    print (str.center(v,7,'*'))"
   ]
  },
  {
   "cell_type": "code",
   "execution_count": null,
   "id": "420a3e10",
   "metadata": {},
   "outputs": [],
   "source": [
    "#check looping in pyspark once"
   ]
  },
  {
   "cell_type": "code",
   "execution_count": 121,
   "id": "3b7ec1f5",
   "metadata": {},
   "outputs": [
    {
     "name": "stdout",
     "output_type": "stream",
     "text": [
      "+---+-------------+------+\n",
      "| id|wealth_crores|target|\n",
      "+---+-------------+------+\n",
      "|  1|          700|  1200|\n",
      "|  2|         1201|  1400|\n",
      "|  4|         2001|  null|\n",
      "|  5|         3001| 99999|\n",
      "|  3|         1401|  2000|\n",
      "+---+-------------+------+\n",
      "\n"
     ]
    }
   ],
   "source": [
    "#Merging\n",
    "#wel1=spark.read.csv(r'D:\\spark\\def_wealth1.csv',header=True,inferSchema=True)\n",
    "wel2=spark.read.csv(r'D:\\spark\\def_wealth2.csv',header=True,inferSchema=True)\n",
    "wel3=spark.read.csv(r'D:\\spark\\def_wealth3.csv',header=True,inferSchema=True)\n",
    "wel1.show()"
   ]
  },
  {
   "cell_type": "code",
   "execution_count": 91,
   "id": "546d9481",
   "metadata": {},
   "outputs": [
    {
     "name": "stdout",
     "output_type": "stream",
     "text": [
      "+---+-------------+------+\n",
      "| id|wealth_crores|target|\n",
      "+---+-------------+------+\n",
      "|  1|          700|  1200|\n",
      "|  2|         1201|  1400|\n",
      "|  4|         2001|  null|\n",
      "|  5|         3001| 99999|\n",
      "|  3|         1401|  2000|\n",
      "+---+-------------+------+\n",
      "\n"
     ]
    }
   ],
   "source": [
    "col=list(wel1.columns)\n",
    "wel1.join(wel2,on=col,how=\"leftouter\").show()"
   ]
  },
  {
   "cell_type": "code",
   "execution_count": 117,
   "id": "43fb336a",
   "metadata": {},
   "outputs": [
    {
     "name": "stdout",
     "output_type": "stream",
     "text": [
      "+---+-------------+------+\n",
      "| id|wealth_crores|target|\n",
      "+---+-------------+------+\n",
      "|  1|          700|  1200|\n",
      "|  2|         1201|  1400|\n",
      "|  3|         1401|  2222|\n",
      "|  4|         2001| 14343|\n",
      "|  5|         3001|  1434|\n",
      "|  6|          700|  1200|\n",
      "+---+-------------+------+\n",
      "\n"
     ]
    }
   ],
   "source": [
    "#merger with one column has updates\n",
    "from pyspark.sql.functions import monotonically_increasing_id\n",
    "merger=wel1.unionAll(wel2).withColumn('seq',monotonically_increasing_id())\n",
    "merger1=merger.withColumn('rank',row_number().over(Window.partitionBy(merger.id).orderBy(merger.seq.desc())))\n",
    "merger1.select(wel1.columns).where(merger1.rank==1).sort(merger1.id).show()"
   ]
  },
  {
   "cell_type": "code",
   "execution_count": 122,
   "id": "909747d8",
   "metadata": {},
   "outputs": [
    {
     "name": "stdout",
     "output_type": "stream",
     "text": [
      "+---+-------------+------+\n",
      "| id|wealth_crores|target|\n",
      "+---+-------------+------+\n",
      "|  1|          700|  1200|\n",
      "|  2|         null|  1400|\n",
      "|  3|         1401|  2222|\n",
      "|  4|         2001| 14343|\n",
      "|  5|         3001|  1434|\n",
      "|  6|          700|  1200|\n",
      "+---+-------------+------+\n",
      "\n"
     ]
    }
   ],
   "source": [
    "merger=wel1.unionAll(wel3).withColumn('seq',monotonically_increasing_id())\n",
    "merger1=merger.withColumn('rank',row_number().over(Window.partitionBy(merger.id).orderBy(merger.seq.desc())))\n",
    "merger1.select(wel1.columns).where(merger1.rank==1).sort(merger1.id).show()"
   ]
  },
  {
   "cell_type": "code",
   "execution_count": 145,
   "id": "a7ac584a",
   "metadata": {},
   "outputs": [],
   "source": [
    "from pyspark.sql import functions as f\n",
    "#wel1.withColumn('wealth_crores',f.when(wel1.id==wel3.id,wel3.wealth_crores).otherwise(wel1.wealth_crores))"
   ]
  },
  {
   "cell_type": "code",
   "execution_count": null,
   "id": "0b751241",
   "metadata": {},
   "outputs": [],
   "source": []
  },
  {
   "cell_type": "code",
   "execution_count": 146,
   "id": "7ade71fe",
   "metadata": {},
   "outputs": [
    {
     "name": "stdout",
     "output_type": "stream",
     "text": [
      "+---+-------------+------+\n",
      "| id|wealth_crores|target|\n",
      "+---+-------------+------+\n",
      "|  1|          700|  1200|\n",
      "|  2|         null|  1400|\n",
      "|  3|         1401|  2222|\n",
      "|  4|         2001| 14343|\n",
      "|  5|         3001|  1434|\n",
      "|  6|          700|  1200|\n",
      "+---+-------------+------+\n",
      "\n"
     ]
    }
   ],
   "source": [
    "#merging of any number of columns by joins equivalent to SQL Merge\n",
    "weljoin=wel3.join(wel1,wel1.id==wel3.id,\"inner\").select(wel1.id,wel3.wealth_crores,wel3.target)\n",
    "welnotjoin1=wel3.join(wel1,wel1.id==wel3.id,\"fullouter\").where(wel3.id.isNull()).select(wel1.id,wel1.wealth_crores,wel1.target)\n",
    "welnotjoin3=wel3.join(wel1,wel1.id==wel3.id,\"fullouter\").where(wel1.id.isNull()).select(wel3.id,wel3.wealth_crores,wel3.target)\n",
    "mergebyjoin=weljoin.unionAll(welnotjoin1).unionAll(welnotjoin3)\n",
    "mergebyjoin.sort('id').show()"
   ]
  },
  {
   "cell_type": "code",
   "execution_count": 159,
   "id": "0d8fd253",
   "metadata": {},
   "outputs": [
    {
     "name": "stdout",
     "output_type": "stream",
     "text": [
      "+---+-------------+------+------+\n",
      "| id|wealth_crores|target|decode|\n",
      "+---+-------------+------+------+\n",
      "|  1|          700|  1200|  1200|\n",
      "|  2|         1201|  1400|  1400|\n",
      "|  4|         2001|  null|  4444|\n",
      "|  5|         3001| 99999| 99999|\n",
      "|  3|         1401|  2000|  0002|\n",
      "+---+-------------+------+------+\n",
      "\n"
     ]
    }
   ],
   "source": [
    "#DECODE Functionality in Pyspark\n",
    "wel1.withColumn('decode',when(wel1.target.isNull(),4444).when(wel1.target==2000,'0002').otherwise(wel1.target)).show()"
   ]
  },
  {
   "cell_type": "code",
   "execution_count": 167,
   "id": "7f42184a",
   "metadata": {},
   "outputs": [
    {
     "name": "stdout",
     "output_type": "stream",
     "text": [
      "+---+-------------+------+------+\n",
      "| id|wealth_crores|target|decode|\n",
      "+---+-------------+------+------+\n",
      "|  1|          700|  1200|  1200|\n",
      "|  2|         1201|  1400|  1400|\n",
      "|  4|         2001|  null|  4444|\n",
      "|  5|         3001| 99999| 99999|\n",
      "|  3|         1401|  2000|  0002|\n",
      "+---+-------------+------+------+\n",
      "\n"
     ]
    }
   ],
   "source": [
    "import pyspark.sql.functions as F\n",
    "wel1.alias(\"a\").withColumn('decode',when(F.col(\"a.target\").isNull(),4444).when(F.col(\"a.target\")==2000,'0002')\n",
    "                .otherwise(F.col(\"a.target\"))).show()"
   ]
  },
  {
   "cell_type": "code",
   "execution_count": 161,
   "id": "1abd9566",
   "metadata": {},
   "outputs": [
    {
     "ename": "SyntaxError",
     "evalue": "unmatched ')' (<ipython-input-161-2011f5a82766>, line 46)",
     "output_type": "error",
     "traceback": [
      "\u001b[1;36m  File \u001b[1;32m\"<ipython-input-161-2011f5a82766>\"\u001b[1;36m, line \u001b[1;32m46\u001b[0m\n\u001b[1;33m    .otherwise(\"other\"))\\\u001b[0m\n\u001b[1;37m                       ^\u001b[0m\n\u001b[1;31mSyntaxError\u001b[0m\u001b[1;31m:\u001b[0m unmatched ')'\n"
     ]
    }
   ],
   "source": [
    "from pyspark.sql import DataFrame, SparkSession\n",
    "from typing import List\n",
    "import pyspark.sql.functions as F\n",
    "\n",
    "def transform(spark_session: SparkSession, inputs: List[DataFrame], credentials=None) -> DataFrame:\n",
    "    \"\"\"Transforms input DataFrame(s) and returns a single DataFrame as a result\n",
    "\n",
    "    # Arguments\n",
    "    spark_session -- Entrypoint into PySpark's Dataset and DataFrame API\n",
    "    inputs        -- A nonempty List of the input components for this Transform. The index of each\n",
    "                     input in the list is determined by how the Transform is configured.\n",
    "    credentials   -- If set (in Advanced Settings), this variable takes upon the string value of the\n",
    "                     content of the 'Credentials Secret' field.\n",
    "\n",
    "    # Returns\n",
    "    Any object of type DataFrame\n",
    "    \"\"\"\n",
    "    uat_mysql_parents = inputs[0]\n",
    "    bo_accounts_df_uat = inputs[1]\n",
    "    bo_users = inputs[2]\n",
    "    countries_read = inputs[3]\n",
    "    age_read = inputs[4]\n",
    "\n",
    "    for column in [column for column in age_read.columns if column not in bo_users.columns]:\n",
    "        bo_users = bo_users.withColumn(column, F.lit(None))\n",
    "\n",
    "    for column in [column for column in bo_users.columns if column not in age_read.columns]:\n",
    "        age_read = age_read.withColumn(column, F.lit(None))\n",
    "    \n",
    "    bo_users_df_uat = bo_users.unionByName(age_read)\n",
    "    #merged_df.show()\n",
    "\n",
    "    # bo_users_df_uat = [bo_users_df_uat,age_read]\n",
    "    \n",
    "    # merged_df.createOrReplaceTempView(\"a\")\n",
    "    # sqlDF = spark_session.sql(\"select a.accountid as Account_ID, a.userID as User_ID, a.accountNo as Account_Number, pg.parentname as Partner_Name,     date(openedWhen) as Account_Open_Date, case when COALESCE (a.bodEquityValue,0)<>0 then 'Funded' else 'Unfunded' end as Account_Funded_Status, case when  a.accountType='2' then 'Live' when  a.accountType in ('1', '98') then 'Pratice' else 'Other' end  as Account_Type, case when  a.accountType='2' and a.status='2' and a.status!= ('9') then 'Active' when   a.accountType='2' and a.status='1'  and a.status!= ('9') then 'Opened - Pending Approval' when a.status='9' and a.accountType='2'and a.status='2' then 'Closed' when  a.accountType in ('1', '98') then 'Pratice' else 'Other' end  as Account_Status, case when round((DATEDIFF( CURRENT_DATE,COALESCE(u.ageWhen,0)) / 365) + u.age , 0)>0 and  round((DATEDIFF( CURRENT_DATE,COALESCE(u.ageWhen,0)) / 365) + u.age , 0)<20 then '0-19' when round((DATEDIFF( CURRENT_DATE,COALESCE(u.ageWhen,0)) / 365) + u.age , 0)>=20 and round((DATEDIFF( CURRENT_DATE,COALESCE(u.ageWhen,0)) / 365) + u.age , 0)<30 then '20-29' when  round((DATEDIFF( CURRENT_DATE,COALESCE(u.ageWhen,0)) / 365) + u.age , 0)>=30 and round((DATEDIFF( CURRENT_DATE,COALESCE(u.ageWhen,0)) / 365) + u.age , 0)<40 then '30-39' when round((DATEDIFF( CURRENT_DATE,COALESCE(u.ageWhen,0)) / 365) + u.age , 0)>=40 and  round((DATEDIFF( CURRENT_DATE,COALESCE(u.ageWhen,0)) / 365) + u.age , 0)<50 then '40-49' when round((DATEDIFF( CURRENT_DATE,COALESCE(u.ageWhen,0)) / 365) + u.age , 0)>=50 and        round((DATEDIFF( CURRENT_DATE,COALESCE(u.ageWhen,0)) / 365) + u.age , 0)<60 then '50-59' when  round((DATEDIFF( CURRENT_DATE,COALESCE(u.ageWhen,0)) / 365) + u.age , 0) > 60 then  '60+' else 'Other' end  as ageGroup\")\n",
    "    # sqlDF.show()\n",
    "\n",
    "    a = bo_accounts_df_uat.alias(\"a\").withColumn(\"Account_Type\",F.when(F.col(\"a.accountType\") == F.lit(2), \"Live\")\\\n",
    "    .when(F.col(\"a.accountType\")== F.col(\"a.accountType\").between(1,98),\"Pratice\")\n",
    "    .otherwise(\"other\"))\\\n",
    "    .withColumn(\"Account_Status\", F.when(F.col(\"a.accountType\") == F.lit(2), \"active\")\\\n",
    "    .otherwise(\"other\"))\\\n",
    "    .when((F.col(\"a.accountType\")==F.lit(60)) & (F.col(\"a.status\")==F.lit(1)) & (F.col(\"a.status\") != F.lit(9)), \"Pending Approval\").when((F.col(\"a.accountType\")==F.lit(60)) & (F.col(\"a.status\")==F.lit(1911)) & (F.col(\"a.status\") == F.lit(1912)), \"closed\")\\\n",
    "    .when(F.col(\"a.duration\").between(1,98),\"Pratice\")\\\n",
    "    .otherwise(\"other\"))\\\n",
    "    .withColumn(\"Account_Trade_Type\",F.when(F.col(\"a.tradingtype\")=='C', \"Cash Account\")\\\n",
    "    .when(F.col(\"a.tradingtype\")==\"M\", \"Margin Account\")\\\n",
    "    .when(F.col(\"a.tradingtype\")==\"P\", \"Pattern Day Trader\")\\\n",
    "    .otherwise(\"other\"))\\\n",
    "    .withColumn(\"Account_Management_Type\", when(F.col('a.accountMgmtType')==0 ,\"Self-direct\")\\\n",
    "                .when(F.col('a.accountMgmtType')==1 ,\"Advisory\")\\\n",
    "                .when(F.col('a.accountMgmtType')==2 ,\"RIA Managed\")\\\n",
    "                .when(F.col('a.accountMgmtType')==3 ,\"Custodial\")\\\n",
    "                .when(F.col('a.accountMgmtType')==4 ,\"Custodial Managed\") \\\n",
    "                .when(F.col('a.accountMgmtType')==5 ,\"Trustee\") \\\n",
    "                .when(F.col('a.accountMgmtType')==6 ,\"Trustee MAnaged\") \\\n",
    "                .when(F.col('a.accountMgmtType')==7 ,\"SMSF\") \\\n",
    "                .when(F.col('a.accountMgmtType')==8 ,\"SMSF Manageed\") \\\n",
    "                .when(F.col('a.accountMgmtType')==9 ,\"Broker Managed\") \\\n",
    "                .when(F.col('a.accountMgmtType')==10 ,\"Consolidated Margin\") \\\n",
    "                .when(F.col('a.accountMgmtType')==15 ,\"Credit REverse\")\\\n",
    "                .otherwise(\"accountMgmtType\"))\\\n",
    "    .select(F.col(\"a.userID\").alias(\"User_ID\"),\n",
    "            F.col(\"a.accountid\").alias(\"Account_ID\"),\n",
    "            F.col(\"a.accountNo\").alias(\"Account_Number\"),\n",
    "            F.to_date(\"a.openedWhen\").alias(\"Account_Open_Date\"),\n",
    "            (F.coalesce (F.col(\"a.bodEquityValue\"),F.lit(0)))-(F.coalesce (F.col(\"a.bodcashavailforwith\"),F.lit(0))).alias(\"Equity_Value\"),\n",
    "            (F.coalesce (F.col(\"a.bodcashavailforwith\"),F.lit(0))).alias(\" Cash_Value\"),\n",
    "            F.coalesce (F.col(\"a.bodEquityValue\"), F.lit(0)).alias(\"AUM\"),\n",
    "            F.col(\"a.authorizedUsers\").alias(\"Authorized_Users\"),\n",
    "            F.col(\"Account_Type\"),\n",
    "            F.col(\"Account_Status\"),\n",
    "            F.col(\"Account_Trade_Type\"),\n",
    "            F.col(\"Account_Funded_Status\"),\n",
    "            F.col(\"ageGroup\")\n",
    "            )\n",
    "\n",
    "#     pg = uat_mysql_parents.alias(\"pg\").select(F.col(\"pg.parentname\").alias(\"Partner_Name\"))\n",
    "#     u= df4.alias(\"u\")\n",
    "#     # cc = df3.alias(\"cc\").select(F.coalesce(F.col(\"cc.region\"),\"Missing/Unknown\")).alias(\"Region_Name\")\n",
    "\n",
    "#     a.join(u, a[\"userid\"] == u[\"userID\"], \"left_outer\")\n",
    "#     u.join(pg, u[\"parentIbID\"] == pg[\"parentid\"], \"left_outer\")\n",
    "#     u.join(cc, u[\"countryID\"] == cc[\"countryid\"], \"left_outer\")\n",
    "    return bo_users_df_uat"
   ]
  },
  {
   "cell_type": "code",
   "execution_count": 169,
   "id": "813ced0a",
   "metadata": {},
   "outputs": [
    {
     "ename": "NameError",
     "evalue": "name 'bo_accounts_df_uat' is not defined",
     "output_type": "error",
     "traceback": [
      "\u001b[1;31m---------------------------------------------------------------------------\u001b[0m",
      "\u001b[1;31mNameError\u001b[0m                                 Traceback (most recent call last)",
      "\u001b[1;32m<ipython-input-169-84fe2c4ac93a>\u001b[0m in \u001b[0;36m<module>\u001b[1;34m\u001b[0m\n\u001b[1;32m----> 1\u001b[1;33m a = bo_accounts_df_uat.alias(\"a\").withColumn(\"Account_Type\",F.when(F.col(\"a.accountType\") == F.lit(2), \"Live\")\\\n\u001b[0m\u001b[0;32m      2\u001b[0m     \u001b[1;33m.\u001b[0m\u001b[0mwhen\u001b[0m\u001b[1;33m(\u001b[0m\u001b[0mF\u001b[0m\u001b[1;33m.\u001b[0m\u001b[0mcol\u001b[0m\u001b[1;33m(\u001b[0m\u001b[1;34m\"a.accountType\"\u001b[0m\u001b[1;33m)\u001b[0m\u001b[1;33m==\u001b[0m \u001b[0mF\u001b[0m\u001b[1;33m.\u001b[0m\u001b[0mcol\u001b[0m\u001b[1;33m(\u001b[0m\u001b[1;34m\"a.accountType\"\u001b[0m\u001b[1;33m)\u001b[0m\u001b[1;33m.\u001b[0m\u001b[0mbetween\u001b[0m\u001b[1;33m(\u001b[0m\u001b[1;36m1\u001b[0m\u001b[1;33m,\u001b[0m\u001b[1;36m98\u001b[0m\u001b[1;33m)\u001b[0m\u001b[1;33m,\u001b[0m\u001b[1;34m\"Pratice\"\u001b[0m\u001b[1;33m)\u001b[0m\u001b[1;33m\u001b[0m\u001b[1;33m\u001b[0m\u001b[0m\n\u001b[0;32m      3\u001b[0m     .otherwise(\"other\"))\\\n\u001b[0;32m      4\u001b[0m     .withColumn(\"Account_Status\", F.when(F.col(\"a.accountType\") == F.lit(2), \"active\")\\\n\u001b[0;32m      5\u001b[0m     \u001b[1;33m.\u001b[0m\u001b[0mwhen\u001b[0m\u001b[1;33m(\u001b[0m\u001b[1;33m(\u001b[0m\u001b[0mF\u001b[0m\u001b[1;33m.\u001b[0m\u001b[0mcol\u001b[0m\u001b[1;33m(\u001b[0m\u001b[1;34m\"a.accountType\"\u001b[0m\u001b[1;33m)\u001b[0m\u001b[1;33m==\u001b[0m\u001b[0mF\u001b[0m\u001b[1;33m.\u001b[0m\u001b[0mlit\u001b[0m\u001b[1;33m(\u001b[0m\u001b[1;36m60\u001b[0m\u001b[1;33m)\u001b[0m\u001b[1;33m)\u001b[0m \u001b[1;33m&\u001b[0m \u001b[1;33m(\u001b[0m\u001b[0mF\u001b[0m\u001b[1;33m.\u001b[0m\u001b[0mcol\u001b[0m\u001b[1;33m(\u001b[0m\u001b[1;34m\"a.status\"\u001b[0m\u001b[1;33m)\u001b[0m\u001b[1;33m==\u001b[0m\u001b[0mF\u001b[0m\u001b[1;33m.\u001b[0m\u001b[0mlit\u001b[0m\u001b[1;33m(\u001b[0m\u001b[1;36m1\u001b[0m\u001b[1;33m)\u001b[0m\u001b[1;33m)\u001b[0m \u001b[1;33m&\u001b[0m \u001b[1;33m(\u001b[0m\u001b[0mF\u001b[0m\u001b[1;33m.\u001b[0m\u001b[0mcol\u001b[0m\u001b[1;33m(\u001b[0m\u001b[1;34m\"a.status\"\u001b[0m\u001b[1;33m)\u001b[0m \u001b[1;33m!=\u001b[0m \u001b[0mF\u001b[0m\u001b[1;33m.\u001b[0m\u001b[0mlit\u001b[0m\u001b[1;33m(\u001b[0m\u001b[1;36m9\u001b[0m\u001b[1;33m)\u001b[0m\u001b[1;33m)\u001b[0m\u001b[1;33m,\u001b[0m \u001b[1;34m\"Pending Approval\"\u001b[0m\u001b[1;33m)\u001b[0m\u001b[1;33m.\u001b[0m\u001b[0mwhen\u001b[0m\u001b[1;33m(\u001b[0m\u001b[1;33m(\u001b[0m\u001b[0mF\u001b[0m\u001b[1;33m.\u001b[0m\u001b[0mcol\u001b[0m\u001b[1;33m(\u001b[0m\u001b[1;34m\"a.accountType\"\u001b[0m\u001b[1;33m)\u001b[0m\u001b[1;33m==\u001b[0m\u001b[0mF\u001b[0m\u001b[1;33m.\u001b[0m\u001b[0mlit\u001b[0m\u001b[1;33m(\u001b[0m\u001b[1;36m60\u001b[0m\u001b[1;33m)\u001b[0m\u001b[1;33m)\u001b[0m \u001b[1;33m&\u001b[0m \u001b[1;33m(\u001b[0m\u001b[0mF\u001b[0m\u001b[1;33m.\u001b[0m\u001b[0mcol\u001b[0m\u001b[1;33m(\u001b[0m\u001b[1;34m\"a.status\"\u001b[0m\u001b[1;33m)\u001b[0m\u001b[1;33m==\u001b[0m\u001b[0mF\u001b[0m\u001b[1;33m.\u001b[0m\u001b[0mlit\u001b[0m\u001b[1;33m(\u001b[0m\u001b[1;36m1911\u001b[0m\u001b[1;33m)\u001b[0m\u001b[1;33m)\u001b[0m \u001b[1;33m&\u001b[0m \u001b[1;33m(\u001b[0m\u001b[0mF\u001b[0m\u001b[1;33m.\u001b[0m\u001b[0mcol\u001b[0m\u001b[1;33m(\u001b[0m\u001b[1;34m\"a.status\"\u001b[0m\u001b[1;33m)\u001b[0m \u001b[1;33m==\u001b[0m \u001b[0mF\u001b[0m\u001b[1;33m.\u001b[0m\u001b[0mlit\u001b[0m\u001b[1;33m(\u001b[0m\u001b[1;36m1912\u001b[0m\u001b[1;33m)\u001b[0m\u001b[1;33m)\u001b[0m\u001b[1;33m,\u001b[0m \u001b[1;34m\"closed\"\u001b[0m\u001b[1;33m)\u001b[0m\u001b[0;31m\\\u001b[0m\u001b[1;33m\u001b[0m\u001b[1;33m\u001b[0m\u001b[0m\n",
      "\u001b[1;31mNameError\u001b[0m: name 'bo_accounts_df_uat' is not defined"
     ]
    }
   ],
   "source": [
    "a = bo_accounts_df_uat.alias(\"a\").withColumn(\"Account_Type\",F.when(F.col(\"a.accountType\") == F.lit(2), \"Live\")\\\n",
    "    .when(F.col(\"a.accountType\")== F.col(\"a.accountType\").between(1,98),\"Pratice\")\n",
    "    .otherwise(\"other\"))\\\n",
    "    .withColumn(\"Account_Status\", F.when(F.col(\"a.accountType\") == F.lit(2), \"active\")\\\n",
    "    .when((F.col(\"a.accountType\")==F.lit(60)) & (F.col(\"a.status\")==F.lit(1)) & (F.col(\"a.status\") \\\n",
    "    != F.lit(9)), \"Pending Approval\").when((F.col(\"a.accountType\")==F.lit(60)) & (F.col(\"a.status\")\\\n",
    "    ==F.lit(1911)) & (F.col(\"a.status\") == F.lit(1912)), \"closed\")\\\n",
    "    .when(F.col(\"a.duration\").between(1,98),\"Pratice\")\\\n",
    "    .otherwise(\"other\"))\\\n",
    "    .withColumn(\"Account_Trade_Type\",F.when(F.col(\"a.tradingtype\")=='C', \"Cash Account\")\\\n",
    "    .when(F.col(\"a.tradingtype\")==\"M\", \"Margin Account\")\\\n",
    "    .when(F.col(\"a.tradingtype\")==\"P\", \"Pattern Day Trader\")\\\n",
    "    .otherwise(\"other\"))\\\n",
    "    .withColumn(\"Account_Management_Type\", when(F.col('a.accountMgmtType')==0 ,\"Self-direct\")\\\n",
    "                .when(F.col('a.accountMgmtType')==1 ,\"Advisory\")\\\n",
    "                .when(F.col('a.accountMgmtType')==2 ,\"RIA Managed\")\\\n",
    "                .when(F.col('a.accountMgmtType')==3 ,\"Custodial\")\\\n",
    "                .when(F.col('a.accountMgmtType')==4 ,\"Custodial Managed\") \\\n",
    "                .when(F.col('a.accountMgmtType')==5 ,\"Trustee\") \\\n",
    "                .when(F.col('a.accountMgmtType')==6 ,\"Trustee MAnaged\") \\\n",
    "                .when(F.col('a.accountMgmtType')==7 ,\"SMSF\") \\\n",
    "                .when(F.col('a.accountMgmtType')==8 ,\"SMSF Manageed\") \\\n",
    "                .when(F.col('a.accountMgmtType')==9 ,\"Broker Managed\") \\\n",
    "                .when(F.col('a.accountMgmtType')==10 ,\"Consolidated Margin\") \\\n",
    "                .when(F.col('a.accountMgmtType')==15 ,\"Credit REverse\")\\\n",
    "                .otherwise(\"accountMgmtType\"))\\\n",
    "    .select(F.col(\"a.userID\").alias(\"User_ID\"),\n",
    "            F.col(\"a.accountid\").alias(\"Account_ID\"),\n",
    "            F.col(\"a.accountNo\").alias(\"Account_Number\"),\n",
    "            F.to_date(\"a.openedWhen\").alias(\"Account_Open_Date\"),\n",
    "            (F.coalesce (F.col(\"a.bodEquityValue\"),F.lit(0)))-(F.coalesce (F.col(\"a.bodcashavailforwith\"),F.lit(0))).alias(\"Equity_Value\"),\n",
    "            (F.coalesce (F.col(\"a.bodcashavailforwith\"),F.lit(0))).alias(\" Cash_Value\"),\n",
    "            F.coalesce (F.col(\"a.bodEquityValue\"), F.lit(0)).alias(\"AUM\"),\n",
    "            F.col(\"a.authorizedUsers\").alias(\"Authorized_Users\"),\n",
    "            F.col(\"Account_Type\"),\n",
    "            F.col(\"Account_Status\"),\n",
    "            F.col(\"Account_Trade_Type\"),\n",
    "            F.col(\"Account_Funded_Status\"),\n",
    "            F.col(\"ageGroup\")\n",
    "            )"
   ]
  },
  {
   "cell_type": "code",
   "execution_count": 184,
   "id": "45f05e80",
   "metadata": {},
   "outputs": [
    {
     "name": "stdout",
     "output_type": "stream",
     "text": [
      "+------------------------------------------------------------+\n",
      "|round(datediff(current_date(), coalesce(current_date())), 0)|\n",
      "+------------------------------------------------------------+\n",
      "|                                                           0|\n",
      "|                                                           0|\n",
      "|                                                           0|\n",
      "|                                                           0|\n",
      "|                                                           0|\n",
      "+------------------------------------------------------------+\n",
      "\n"
     ]
    }
   ],
   "source": [
    "#wel1.select(round(datediff(current_date(),coalesce(current_date(),0)))).show()\n",
    "wel1.select(round(datediff(current_date(),coalesce(current_date())))).show()"
   ]
  },
  {
   "cell_type": "code",
   "execution_count": null,
   "id": "19cbf13f",
   "metadata": {},
   "outputs": [],
   "source": [
    "case\n",
    "        when round((DATEDIFF( CURRENT_DATE,COALESCE(u.ageWhen,0)) / 365) + u.age , 0)>0 and \n",
    "         round((DATEDIFF( CURRENT_DATE,COALESCE(u.ageWhen,0)) / 365) + u.age , 0)<20 then '0-19'\n",
    "        when round((DATEDIFF( CURRENT_DATE,COALESCE(u.ageWhen,0)) / 365) + u.age , 0)>=20 and \n",
    "         round((DATEDIFF( CURRENT_DATE,COALESCE(u.ageWhen,0)) / 365) + u.age , 0)<30 then '20-29'\n",
    "        when round((DATEDIFF( CURRENT_DATE,COALESCE(u.ageWhen,0)) / 365) + u.age , 0)>=30 and \n",
    "         round((DATEDIFF( CURRENT_DATE,COALESCE(u.ageWhen,0)) / 365) + u.age , 0)<40 then '30-39'\n",
    "        when round((DATEDIFF( CURRENT_DATE,COALESCE(u.ageWhen,0)) / 365) + u.age , 0)>=40 and \n",
    "         round((DATEDIFF( CURRENT_DATE,COALESCE(u.ageWhen,0)) / 365) + u.age , 0)<50 then '40-49'\n",
    "        when round((DATEDIFF( CURRENT_DATE,COALESCE(u.ageWhen,0)) / 365) + u.age , 0)>=50 and \n",
    "         round((DATEDIFF( CURRENT_DATE,COALESCE(u.ageWhen,0)) / 365) + u.age , 0)<60 then '50-59'\n",
    "        when round((DATEDIFF( CURRENT_DATE,COALESCE(u.ageWhen,0)) / 365) + u.age , 0) > 60 then  '60+'\n",
    "        else 'Other'\n",
    "    end  as ageGroup"
   ]
  },
  {
   "cell_type": "code",
   "execution_count": null,
   "id": "a0ab00fb",
   "metadata": {},
   "outputs": [],
   "source": []
  },
  {
   "cell_type": "code",
   "execution_count": 183,
   "id": "479c69cc",
   "metadata": {},
   "outputs": [
    {
     "ename": "TypeError",
     "evalue": "when() missing 1 required positional argument: 'value'",
     "output_type": "error",
     "traceback": [
      "\u001b[1;31m---------------------------------------------------------------------------\u001b[0m",
      "\u001b[1;31mTypeError\u001b[0m                                 Traceback (most recent call last)",
      "\u001b[1;32m<ipython-input-183-53aa9d5752fd>\u001b[0m in \u001b[0;36m<module>\u001b[1;34m\u001b[0m\n\u001b[1;32m----> 1\u001b[1;33m \u001b[0mwel1\u001b[0m\u001b[1;33m.\u001b[0m\u001b[0mwithColumn\u001b[0m\u001b[1;33m(\u001b[0m\u001b[1;34m'ageGroup'\u001b[0m\u001b[1;33m,\u001b[0m\u001b[0mwhen\u001b[0m\u001b[1;33m(\u001b[0m\u001b[0mround\u001b[0m\u001b[1;33m(\u001b[0m\u001b[0mdatediff\u001b[0m\u001b[1;33m(\u001b[0m\u001b[0mcurrent_date\u001b[0m\u001b[1;33m(\u001b[0m\u001b[1;33m)\u001b[0m\u001b[1;33m,\u001b[0m\u001b[0mcoalesce\u001b[0m\u001b[1;33m(\u001b[0m\u001b[0mcurrent_date\u001b[0m\u001b[1;33m(\u001b[0m\u001b[1;33m)\u001b[0m\u001b[1;33m)\u001b[0m\u001b[1;33m)\u001b[0m\u001b[1;33m)\u001b[0m\u001b[1;33m>\u001b[0m\u001b[1;36m0\u001b[0m\u001b[1;33m)\u001b[0m\u001b[1;33m,\u001b[0m\u001b[1;36m4\u001b[0m\u001b[1;33m)\u001b[0m\u001b[1;33m.\u001b[0m\u001b[0mshow\u001b[0m\u001b[1;33m(\u001b[0m\u001b[1;33m)\u001b[0m\u001b[1;33m\u001b[0m\u001b[1;33m\u001b[0m\u001b[0m\n\u001b[0m",
      "\u001b[1;31mTypeError\u001b[0m: when() missing 1 required positional argument: 'value'"
     ]
    }
   ],
   "source": [
    "wel1.withColumn('ageGroup',when(round(datediff(current_date(),coalesce(current_date())))>0),4).show()"
   ]
  },
  {
   "cell_type": "code",
   "execution_count": 194,
   "id": "ee1189fa",
   "metadata": {},
   "outputs": [
    {
     "name": "stdout",
     "output_type": "stream",
     "text": [
      "root\n",
      " |-- id: integer (nullable = true)\n",
      " |-- wealth_crores: integer (nullable = true)\n",
      " |-- target: integer (nullable = true)\n",
      " |-- sam: integer (nullable = false)\n",
      "\n"
     ]
    }
   ],
   "source": [
    "#wel1.printSchema()\n",
    "www=wel1.withColumn('sam',F.lit(0))\n",
    "www.printSchema()"
   ]
  },
  {
   "cell_type": "code",
   "execution_count": 197,
   "id": "a8879c50",
   "metadata": {},
   "outputs": [
    {
     "ename": "NameError",
     "evalue": "name 'bo_users_df_uat' is not defined",
     "output_type": "error",
     "traceback": [
      "\u001b[1;31m---------------------------------------------------------------------------\u001b[0m",
      "\u001b[1;31mNameError\u001b[0m                                 Traceback (most recent call last)",
      "\u001b[1;32m<ipython-input-197-7db86ab569e2>\u001b[0m in \u001b[0;36m<module>\u001b[1;34m\u001b[0m\n\u001b[1;32m----> 1\u001b[1;33m u = bo_users_df_uat.alias(\"u\").withColumn(\"agegroup\", \n\u001b[0m\u001b[0;32m      2\u001b[0m     \u001b[0mF\u001b[0m\u001b[1;33m.\u001b[0m\u001b[0mwhen\u001b[0m\u001b[1;33m(\u001b[0m\u001b[1;33m(\u001b[0m\u001b[1;33m(\u001b[0m\u001b[0mF\u001b[0m\u001b[1;33m.\u001b[0m\u001b[0mround\u001b[0m\u001b[1;33m(\u001b[0m\u001b[1;33m(\u001b[0m\u001b[0mF\u001b[0m\u001b[1;33m.\u001b[0m\u001b[0mdatediff\u001b[0m\u001b[1;33m(\u001b[0m\u001b[0mF\u001b[0m\u001b[1;33m.\u001b[0m\u001b[0mcurrent_date\u001b[0m\u001b[1;33m(\u001b[0m\u001b[1;33m)\u001b[0m\u001b[1;33m,\u001b[0m \u001b[0mF\u001b[0m\u001b[1;33m.\u001b[0m\u001b[0mcoalesce\u001b[0m\u001b[1;33m(\u001b[0m\u001b[0mF\u001b[0m\u001b[1;33m.\u001b[0m\u001b[0mcol\u001b[0m\u001b[1;33m(\u001b[0m\u001b[1;34m\"u.ageWhen\"\u001b[0m\u001b[1;33m)\u001b[0m\u001b[1;33m,\u001b[0m \u001b[0mF\u001b[0m\u001b[1;33m.\u001b[0m\u001b[0mlit\u001b[0m\u001b[1;33m(\u001b[0m\u001b[1;34m\"0\"\u001b[0m\u001b[1;33m)\u001b[0m\u001b[1;33m)\u001b[0m\u001b[1;33m)\u001b[0m\u001b[1;33m/\u001b[0m\u001b[1;36m365\u001b[0m\u001b[1;33m)\u001b[0m  \u001b[1;33m+\u001b[0m \u001b[0mF\u001b[0m\u001b[1;33m.\u001b[0m\u001b[0mcol\u001b[0m\u001b[1;33m(\u001b[0m\u001b[1;34m\"u.age\"\u001b[0m\u001b[1;33m)\u001b[0m\u001b[1;33m,\u001b[0m \u001b[1;36m0\u001b[0m\u001b[1;33m)\u001b[0m \u001b[1;33m>\u001b[0m \u001b[1;36m0\u001b[0m\u001b[1;33m)\u001b[0m \u001b[1;33m&\u001b[0m \u001b[1;33m(\u001b[0m\u001b[0mF\u001b[0m\u001b[1;33m.\u001b[0m\u001b[0mround\u001b[0m\u001b[1;33m(\u001b[0m\u001b[1;33m(\u001b[0m\u001b[0mF\u001b[0m\u001b[1;33m.\u001b[0m\u001b[0mdatediff\u001b[0m\u001b[1;33m(\u001b[0m\u001b[0mF\u001b[0m\u001b[1;33m.\u001b[0m\u001b[0mcurrent_date\u001b[0m\u001b[1;33m(\u001b[0m\u001b[1;33m)\u001b[0m\u001b[1;33m,\u001b[0m \u001b[0mF\u001b[0m\u001b[1;33m.\u001b[0m\u001b[0mcoalesce\u001b[0m\u001b[1;33m(\u001b[0m\u001b[0mF\u001b[0m\u001b[1;33m.\u001b[0m\u001b[0mcol\u001b[0m\u001b[1;33m(\u001b[0m\u001b[1;34m\"u.ageWhen\"\u001b[0m\u001b[1;33m)\u001b[0m\u001b[1;33m,\u001b[0m \u001b[0mF\u001b[0m\u001b[1;33m.\u001b[0m\u001b[0mlit\u001b[0m\u001b[1;33m(\u001b[0m\u001b[1;34m\"0\"\u001b[0m\u001b[1;33m)\u001b[0m\u001b[1;33m)\u001b[0m\u001b[1;33m)\u001b[0m \u001b[1;33m/\u001b[0m \u001b[1;36m365\u001b[0m\u001b[1;33m)\u001b[0m \u001b[1;33m+\u001b[0m \u001b[0mF\u001b[0m\u001b[1;33m.\u001b[0m\u001b[0mcol\u001b[0m\u001b[1;33m(\u001b[0m\u001b[1;34m\"u.age\"\u001b[0m\u001b[1;33m)\u001b[0m\u001b[1;33m,\u001b[0m\u001b[1;36m0\u001b[0m\u001b[1;33m)\u001b[0m \u001b[1;33m<\u001b[0m \u001b[1;36m20\u001b[0m\u001b[1;33m)\u001b[0m\u001b[1;33m)\u001b[0m\u001b[1;33m,\u001b[0m \u001b[1;34m\"0-19\"\u001b[0m\u001b[1;33m)\u001b[0m\u001b[1;33m\u001b[0m\u001b[1;33m\u001b[0m\u001b[0m\n\u001b[0;32m      3\u001b[0m     \u001b[1;33m.\u001b[0m\u001b[0mwhen\u001b[0m\u001b[1;33m(\u001b[0m\u001b[1;33m(\u001b[0m\u001b[1;33m(\u001b[0m\u001b[0mF\u001b[0m\u001b[1;33m.\u001b[0m\u001b[0mround\u001b[0m\u001b[1;33m(\u001b[0m\u001b[1;33m(\u001b[0m\u001b[0mF\u001b[0m\u001b[1;33m.\u001b[0m\u001b[0mdatediff\u001b[0m\u001b[1;33m(\u001b[0m\u001b[0mF\u001b[0m\u001b[1;33m.\u001b[0m\u001b[0mcurrent_date\u001b[0m\u001b[1;33m(\u001b[0m\u001b[1;33m)\u001b[0m\u001b[1;33m,\u001b[0m \u001b[0mF\u001b[0m\u001b[1;33m.\u001b[0m\u001b[0mcoalesce\u001b[0m\u001b[1;33m(\u001b[0m\u001b[0mF\u001b[0m\u001b[1;33m.\u001b[0m\u001b[0mcol\u001b[0m\u001b[1;33m(\u001b[0m\u001b[1;34m\"u.ageWhen\"\u001b[0m\u001b[1;33m)\u001b[0m\u001b[1;33m,\u001b[0m \u001b[0mF\u001b[0m\u001b[1;33m.\u001b[0m\u001b[0mlit\u001b[0m\u001b[1;33m(\u001b[0m\u001b[1;34m\"0\"\u001b[0m\u001b[1;33m)\u001b[0m\u001b[1;33m)\u001b[0m\u001b[1;33m)\u001b[0m \u001b[1;33m/\u001b[0m \u001b[1;36m365\u001b[0m\u001b[1;33m)\u001b[0m \u001b[1;33m+\u001b[0m \u001b[0mF\u001b[0m\u001b[1;33m.\u001b[0m\u001b[0mcol\u001b[0m\u001b[1;33m(\u001b[0m\u001b[1;34m\"u.age\"\u001b[0m\u001b[1;33m)\u001b[0m\u001b[1;33m,\u001b[0m\u001b[1;36m0\u001b[0m\u001b[1;33m)\u001b[0m \u001b[1;33m>=\u001b[0m \u001b[1;36m20\u001b[0m\u001b[1;33m)\u001b[0m \u001b[1;33m&\u001b[0m \u001b[1;33m(\u001b[0m\u001b[0mF\u001b[0m\u001b[1;33m.\u001b[0m\u001b[0mround\u001b[0m\u001b[1;33m(\u001b[0m\u001b[1;33m(\u001b[0m\u001b[0mF\u001b[0m\u001b[1;33m.\u001b[0m\u001b[0mdatediff\u001b[0m\u001b[1;33m(\u001b[0m\u001b[0mF\u001b[0m\u001b[1;33m.\u001b[0m\u001b[0mcurrent_date\u001b[0m\u001b[1;33m(\u001b[0m\u001b[1;33m)\u001b[0m\u001b[1;33m,\u001b[0m \u001b[0mF\u001b[0m\u001b[1;33m.\u001b[0m\u001b[0mcoalesce\u001b[0m\u001b[1;33m(\u001b[0m\u001b[0mF\u001b[0m\u001b[1;33m.\u001b[0m\u001b[0mcol\u001b[0m\u001b[1;33m(\u001b[0m\u001b[1;34m\"u.ageWhen\"\u001b[0m\u001b[1;33m)\u001b[0m\u001b[1;33m,\u001b[0m \u001b[0mF\u001b[0m\u001b[1;33m.\u001b[0m\u001b[0mlit\u001b[0m\u001b[1;33m(\u001b[0m\u001b[1;34m\"0\"\u001b[0m\u001b[1;33m)\u001b[0m\u001b[1;33m)\u001b[0m\u001b[1;33m)\u001b[0m \u001b[1;33m/\u001b[0m \u001b[1;36m365\u001b[0m\u001b[1;33m)\u001b[0m \u001b[1;33m+\u001b[0m \u001b[0mF\u001b[0m\u001b[1;33m.\u001b[0m\u001b[0mcol\u001b[0m\u001b[1;33m(\u001b[0m\u001b[1;34m\"u.age\"\u001b[0m\u001b[1;33m)\u001b[0m\u001b[1;33m,\u001b[0m\u001b[1;36m0\u001b[0m\u001b[1;33m)\u001b[0m \u001b[1;33m<\u001b[0m \u001b[1;36m30\u001b[0m\u001b[1;33m)\u001b[0m\u001b[1;33m)\u001b[0m\u001b[1;33m,\u001b[0m \u001b[1;34m\"20-29\"\u001b[0m\u001b[1;33m)\u001b[0m\u001b[1;33m\u001b[0m\u001b[1;33m\u001b[0m\u001b[0m\n\u001b[0;32m      4\u001b[0m     \u001b[1;33m.\u001b[0m\u001b[0mwhen\u001b[0m\u001b[1;33m(\u001b[0m\u001b[1;33m(\u001b[0m\u001b[1;33m(\u001b[0m\u001b[0mF\u001b[0m\u001b[1;33m.\u001b[0m\u001b[0mround\u001b[0m\u001b[1;33m(\u001b[0m\u001b[1;33m(\u001b[0m\u001b[0mF\u001b[0m\u001b[1;33m.\u001b[0m\u001b[0mdatediff\u001b[0m\u001b[1;33m(\u001b[0m\u001b[0mF\u001b[0m\u001b[1;33m.\u001b[0m\u001b[0mcurrent_date\u001b[0m\u001b[1;33m(\u001b[0m\u001b[1;33m)\u001b[0m\u001b[1;33m,\u001b[0m \u001b[0mF\u001b[0m\u001b[1;33m.\u001b[0m\u001b[0mcoalesce\u001b[0m\u001b[1;33m(\u001b[0m\u001b[0mF\u001b[0m\u001b[1;33m.\u001b[0m\u001b[0mcol\u001b[0m\u001b[1;33m(\u001b[0m\u001b[1;34m\"u.ageWhen\"\u001b[0m\u001b[1;33m)\u001b[0m\u001b[1;33m,\u001b[0m \u001b[0mF\u001b[0m\u001b[1;33m.\u001b[0m\u001b[0mlit\u001b[0m\u001b[1;33m(\u001b[0m\u001b[1;34m\"0\"\u001b[0m\u001b[1;33m)\u001b[0m\u001b[1;33m)\u001b[0m\u001b[1;33m)\u001b[0m \u001b[1;33m/\u001b[0m \u001b[1;36m365\u001b[0m\u001b[1;33m)\u001b[0m \u001b[1;33m+\u001b[0m \u001b[0mF\u001b[0m\u001b[1;33m.\u001b[0m\u001b[0mcol\u001b[0m\u001b[1;33m(\u001b[0m\u001b[1;34m\"u.age\"\u001b[0m\u001b[1;33m)\u001b[0m\u001b[1;33m,\u001b[0m \u001b[1;36m0\u001b[0m\u001b[1;33m)\u001b[0m \u001b[1;33m>=\u001b[0m \u001b[1;36m30\u001b[0m\u001b[1;33m)\u001b[0m \u001b[1;33m&\u001b[0m \u001b[1;33m(\u001b[0m\u001b[0mF\u001b[0m\u001b[1;33m.\u001b[0m\u001b[0mround\u001b[0m\u001b[1;33m(\u001b[0m\u001b[1;33m(\u001b[0m\u001b[0mF\u001b[0m\u001b[1;33m.\u001b[0m\u001b[0mdatediff\u001b[0m\u001b[1;33m(\u001b[0m\u001b[0mF\u001b[0m\u001b[1;33m.\u001b[0m\u001b[0mcurrent_date\u001b[0m\u001b[1;33m(\u001b[0m\u001b[1;33m)\u001b[0m\u001b[1;33m,\u001b[0m \u001b[0mF\u001b[0m\u001b[1;33m.\u001b[0m\u001b[0mcoalesce\u001b[0m\u001b[1;33m(\u001b[0m\u001b[0mF\u001b[0m\u001b[1;33m.\u001b[0m\u001b[0mcol\u001b[0m\u001b[1;33m(\u001b[0m\u001b[1;34m\"u.ageWhen\"\u001b[0m\u001b[1;33m)\u001b[0m\u001b[1;33m,\u001b[0m \u001b[0mF\u001b[0m\u001b[1;33m.\u001b[0m\u001b[0mlit\u001b[0m\u001b[1;33m(\u001b[0m\u001b[1;34m\"0\"\u001b[0m\u001b[1;33m)\u001b[0m\u001b[1;33m)\u001b[0m\u001b[1;33m)\u001b[0m \u001b[1;33m/\u001b[0m \u001b[1;36m365\u001b[0m\u001b[1;33m)\u001b[0m \u001b[1;33m+\u001b[0m \u001b[0mF\u001b[0m\u001b[1;33m.\u001b[0m\u001b[0mcol\u001b[0m\u001b[1;33m(\u001b[0m\u001b[1;34m\"u.age\"\u001b[0m\u001b[1;33m)\u001b[0m\u001b[1;33m,\u001b[0m\u001b[1;36m0\u001b[0m\u001b[1;33m)\u001b[0m \u001b[1;33m<\u001b[0m \u001b[1;36m40\u001b[0m\u001b[1;33m)\u001b[0m\u001b[1;33m)\u001b[0m\u001b[1;33m,\u001b[0m \u001b[1;34m\"30-39\"\u001b[0m\u001b[1;33m)\u001b[0m\u001b[1;33m\u001b[0m\u001b[1;33m\u001b[0m\u001b[0m\n\u001b[0;32m      5\u001b[0m     \u001b[1;33m.\u001b[0m\u001b[0mwhen\u001b[0m\u001b[1;33m(\u001b[0m\u001b[1;33m(\u001b[0m\u001b[1;33m(\u001b[0m\u001b[0mF\u001b[0m\u001b[1;33m.\u001b[0m\u001b[0mround\u001b[0m\u001b[1;33m(\u001b[0m\u001b[1;33m(\u001b[0m\u001b[0mF\u001b[0m\u001b[1;33m.\u001b[0m\u001b[0mdatediff\u001b[0m\u001b[1;33m(\u001b[0m\u001b[0mF\u001b[0m\u001b[1;33m.\u001b[0m\u001b[0mcurrent_date\u001b[0m\u001b[1;33m(\u001b[0m\u001b[1;33m)\u001b[0m\u001b[1;33m,\u001b[0m \u001b[0mF\u001b[0m\u001b[1;33m.\u001b[0m\u001b[0mcoalesce\u001b[0m\u001b[1;33m(\u001b[0m\u001b[0mF\u001b[0m\u001b[1;33m.\u001b[0m\u001b[0mcol\u001b[0m\u001b[1;33m(\u001b[0m\u001b[1;34m\"u.ageWhen\"\u001b[0m\u001b[1;33m)\u001b[0m\u001b[1;33m,\u001b[0m \u001b[0mF\u001b[0m\u001b[1;33m.\u001b[0m\u001b[0mlit\u001b[0m\u001b[1;33m(\u001b[0m\u001b[1;34m\"0\"\u001b[0m\u001b[1;33m)\u001b[0m\u001b[1;33m)\u001b[0m\u001b[1;33m)\u001b[0m \u001b[1;33m/\u001b[0m \u001b[1;36m365\u001b[0m\u001b[1;33m)\u001b[0m \u001b[1;33m+\u001b[0m \u001b[0mF\u001b[0m\u001b[1;33m.\u001b[0m\u001b[0mcol\u001b[0m\u001b[1;33m(\u001b[0m\u001b[1;34m\"u.age\"\u001b[0m\u001b[1;33m)\u001b[0m\u001b[1;33m,\u001b[0m \u001b[1;36m0\u001b[0m\u001b[1;33m)\u001b[0m \u001b[1;33m>=\u001b[0m \u001b[1;36m40\u001b[0m\u001b[1;33m)\u001b[0m \u001b[1;33m&\u001b[0m \u001b[1;33m(\u001b[0m\u001b[0mF\u001b[0m\u001b[1;33m.\u001b[0m\u001b[0mround\u001b[0m\u001b[1;33m(\u001b[0m\u001b[1;33m(\u001b[0m\u001b[0mF\u001b[0m\u001b[1;33m.\u001b[0m\u001b[0mdatediff\u001b[0m\u001b[1;33m(\u001b[0m\u001b[0mF\u001b[0m\u001b[1;33m.\u001b[0m\u001b[0mcurrent_date\u001b[0m\u001b[1;33m(\u001b[0m\u001b[1;33m)\u001b[0m\u001b[1;33m,\u001b[0m \u001b[0mF\u001b[0m\u001b[1;33m.\u001b[0m\u001b[0mcoalesce\u001b[0m\u001b[1;33m(\u001b[0m\u001b[0mF\u001b[0m\u001b[1;33m.\u001b[0m\u001b[0mcol\u001b[0m\u001b[1;33m(\u001b[0m\u001b[1;34m\"u.ageWhen\"\u001b[0m\u001b[1;33m)\u001b[0m\u001b[1;33m,\u001b[0m \u001b[0mF\u001b[0m\u001b[1;33m.\u001b[0m\u001b[0mlit\u001b[0m\u001b[1;33m(\u001b[0m\u001b[1;34m\"0\"\u001b[0m\u001b[1;33m)\u001b[0m\u001b[1;33m)\u001b[0m\u001b[1;33m)\u001b[0m \u001b[1;33m/\u001b[0m \u001b[1;36m365\u001b[0m\u001b[1;33m)\u001b[0m \u001b[1;33m+\u001b[0m \u001b[0mF\u001b[0m\u001b[1;33m.\u001b[0m\u001b[0mcol\u001b[0m\u001b[1;33m(\u001b[0m\u001b[1;34m\"u.age\"\u001b[0m\u001b[1;33m)\u001b[0m\u001b[1;33m,\u001b[0m\u001b[1;36m0\u001b[0m\u001b[1;33m)\u001b[0m \u001b[1;33m<\u001b[0m \u001b[1;36m50\u001b[0m\u001b[1;33m)\u001b[0m\u001b[1;33m)\u001b[0m\u001b[1;33m,\u001b[0m \u001b[1;34m\"40-49\"\u001b[0m\u001b[1;33m)\u001b[0m\u001b[1;33m\u001b[0m\u001b[1;33m\u001b[0m\u001b[0m\n",
      "\u001b[1;31mNameError\u001b[0m: name 'bo_users_df_uat' is not defined"
     ]
    }
   ],
   "source": [
    "u = bo_users_df_uat.alias(\"u\").withColumn(\"agegroup\", \n",
    "    F.when(((F.round((F.datediff(F.current_date(), F.coalesce(F.col(\"u.ageWhen\"), F.lit(\"0\")))/365)  + F.col(\"u.age\"), 0) > 0) & (F.round((F.datediff(F.current_date(), F.coalesce(F.col(\"u.ageWhen\"), F.lit(\"0\"))) / 365) + F.col(\"u.age\"),0) < 20)), \"0-19\")\n",
    "    .when(((F.round((F.datediff(F.current_date(), F.coalesce(F.col(\"u.ageWhen\"), F.lit(\"0\"))) / 365) + F.col(\"u.age\"),0) >= 20) & (F.round((F.datediff(F.current_date(), F.coalesce(F.col(\"u.ageWhen\"), F.lit(\"0\"))) / 365) + F.col(\"u.age\"),0) < 30)), \"20-29\")\n",
    "    .when(((F.round((F.datediff(F.current_date(), F.coalesce(F.col(\"u.ageWhen\"), F.lit(\"0\"))) / 365) + F.col(\"u.age\"), 0) >= 30) & (F.round((F.datediff(F.current_date(), F.coalesce(F.col(\"u.ageWhen\"), F.lit(\"0\"))) / 365) + F.col(\"u.age\"),0) < 40)), \"30-39\")\n",
    "    .when(((F.round((F.datediff(F.current_date(), F.coalesce(F.col(\"u.ageWhen\"), F.lit(\"0\"))) / 365) + F.col(\"u.age\"), 0) >= 40) & (F.round((F.datediff(F.current_date(), F.coalesce(F.col(\"u.ageWhen\"), F.lit(\"0\"))) / 365) + F.col(\"u.age\"),0) < 50)), \"40-49\")\n",
    "    .when(((F.round((F.datediff(F.current_date(), F.coalesce(F.col(\"u.ageWhen\"), lit(\"0\"))) / 365) + F.col(\"u.age\"), 0) >= 50) & (F.round((F.datediff(F.current_date(), F.coalesce(F.col(\"u.ageWhen\"), F.lit(\"0\"))) / 365) + F.col(\"u.age\"),0) < 60)), \"50-59\")\n",
    "    .when((F.round((F.datediff(F.current_date(), F.coalesce(F.col(\"u.ageWhen\"), F.lit(\"0\"))) / 365) + F.col(\"u.age\"), 0) > 60), \"60+\")\n",
    "    .otherwise(\"Other\"))"
   ]
  },
  {
   "cell_type": "code",
   "execution_count": 196,
   "id": "696a0be8",
   "metadata": {},
   "outputs": [
    {
     "ename": "AnalysisException",
     "evalue": "cannot resolve 'datediff(current_date(), coalesce(u.`id`, 0))' due to data type mismatch: argument 2 requires date type, however, 'coalesce(u.`id`, 0)' is of int type.;;\n'Project [id#1658, wealth_crores#1659, target#1660, CASE WHEN ((round(((datediff(current_date(Some(Asia/Calcutta)), coalesce(id#1658, 0)) / 365) + id#1658), 0) > 0) AND (round(((datediff(current_date(Some(Asia/Calcutta)), coalesce(id#1658, 0)) / 365) + id#1658), 0) < 20)) THEN 0-19 WHEN ((round(((datediff(current_date(Some(Asia/Calcutta)), coalesce(id#1658, 0)) / 365) + id#1658), 0) >= 20) AND (round(((datediff(current_date(Some(Asia/Calcutta)), coalesce(id#1658, 0)) / 365) + id#1658), 0) < 30)) THEN 20-29 WHEN ((round(((datediff(current_date(Some(Asia/Calcutta)), coalesce(id#1658, 0)) / 365) + id#1658), 0) >= 30) AND (round(((datediff(current_date(Some(Asia/Calcutta)), coalesce(id#1658, 0)) / 365) + id#1658), 0) < 40)) THEN 30-39 WHEN ((round(((datediff(current_date(Some(Asia/Calcutta)), coalesce(id#1658, 0)) / 365) + id#1658), 0) >= 40) AND (round(((datediff(current_date(Some(Asia/Calcutta)), coalesce(id#1658, 0)) / 365) + id#1658), 0) < 50)) THEN 40-49 WHEN ((round(((datediff(current_date(Some(Asia/Calcutta)), coalesce(id#1658, 0)) / 365) + id#1658), 0) >= 50) AND (round(((datediff(current_date(Some(Asia/Calcutta)), coalesce(id#1658, 0)) / 365) + id#1658), 0) < 60)) THEN 50-59 WHEN (round(((datediff(current_date(Some(Asia/Calcutta)), coalesce(id#1658, 0)) / 365) + id#1658), 0) > 60) THEN 60+ ELSE 2 END AS agegroup#4920]\n+- SubqueryAlias `u`\n   +- RelationV2[id#1658, wealth_crores#1659, target#1660] csv file:/D:/spark/def_wealth1.csv\n",
     "output_type": "error",
     "traceback": [
      "\u001b[1;31m---------------------------------------------------------------------------\u001b[0m",
      "\u001b[1;31mPy4JJavaError\u001b[0m                             Traceback (most recent call last)",
      "\u001b[1;32mD:\\spark\\spark-3.0.0-preview2-bin-hadoop2.7\\python\\pyspark\\sql\\utils.py\u001b[0m in \u001b[0;36mdeco\u001b[1;34m(*a, **kw)\u001b[0m\n\u001b[0;32m     97\u001b[0m         \u001b[1;32mtry\u001b[0m\u001b[1;33m:\u001b[0m\u001b[1;33m\u001b[0m\u001b[1;33m\u001b[0m\u001b[0m\n\u001b[1;32m---> 98\u001b[1;33m             \u001b[1;32mreturn\u001b[0m \u001b[0mf\u001b[0m\u001b[1;33m(\u001b[0m\u001b[1;33m*\u001b[0m\u001b[0ma\u001b[0m\u001b[1;33m,\u001b[0m \u001b[1;33m**\u001b[0m\u001b[0mkw\u001b[0m\u001b[1;33m)\u001b[0m\u001b[1;33m\u001b[0m\u001b[1;33m\u001b[0m\u001b[0m\n\u001b[0m\u001b[0;32m     99\u001b[0m         \u001b[1;32mexcept\u001b[0m \u001b[0mpy4j\u001b[0m\u001b[1;33m.\u001b[0m\u001b[0mprotocol\u001b[0m\u001b[1;33m.\u001b[0m\u001b[0mPy4JJavaError\u001b[0m \u001b[1;32mas\u001b[0m \u001b[0me\u001b[0m\u001b[1;33m:\u001b[0m\u001b[1;33m\u001b[0m\u001b[1;33m\u001b[0m\u001b[0m\n",
      "\u001b[1;32m~\\anaconda3\\lib\\site-packages\\py4j\\protocol.py\u001b[0m in \u001b[0;36mget_return_value\u001b[1;34m(answer, gateway_client, target_id, name)\u001b[0m\n\u001b[0;32m    325\u001b[0m             \u001b[1;32mif\u001b[0m \u001b[0manswer\u001b[0m\u001b[1;33m[\u001b[0m\u001b[1;36m1\u001b[0m\u001b[1;33m]\u001b[0m \u001b[1;33m==\u001b[0m \u001b[0mREFERENCE_TYPE\u001b[0m\u001b[1;33m:\u001b[0m\u001b[1;33m\u001b[0m\u001b[1;33m\u001b[0m\u001b[0m\n\u001b[1;32m--> 326\u001b[1;33m                 raise Py4JJavaError(\n\u001b[0m\u001b[0;32m    327\u001b[0m                     \u001b[1;34m\"An error occurred while calling {0}{1}{2}.\\n\"\u001b[0m\u001b[1;33m.\u001b[0m\u001b[1;33m\u001b[0m\u001b[1;33m\u001b[0m\u001b[0m\n",
      "\u001b[1;31mPy4JJavaError\u001b[0m: An error occurred while calling o2344.withColumn.\n: org.apache.spark.sql.AnalysisException: cannot resolve 'datediff(current_date(), coalesce(u.`id`, 0))' due to data type mismatch: argument 2 requires date type, however, 'coalesce(u.`id`, 0)' is of int type.;;\n'Project [id#1658, wealth_crores#1659, target#1660, CASE WHEN ((round(((datediff(current_date(Some(Asia/Calcutta)), coalesce(id#1658, 0)) / 365) + id#1658), 0) > 0) AND (round(((datediff(current_date(Some(Asia/Calcutta)), coalesce(id#1658, 0)) / 365) + id#1658), 0) < 20)) THEN 0-19 WHEN ((round(((datediff(current_date(Some(Asia/Calcutta)), coalesce(id#1658, 0)) / 365) + id#1658), 0) >= 20) AND (round(((datediff(current_date(Some(Asia/Calcutta)), coalesce(id#1658, 0)) / 365) + id#1658), 0) < 30)) THEN 20-29 WHEN ((round(((datediff(current_date(Some(Asia/Calcutta)), coalesce(id#1658, 0)) / 365) + id#1658), 0) >= 30) AND (round(((datediff(current_date(Some(Asia/Calcutta)), coalesce(id#1658, 0)) / 365) + id#1658), 0) < 40)) THEN 30-39 WHEN ((round(((datediff(current_date(Some(Asia/Calcutta)), coalesce(id#1658, 0)) / 365) + id#1658), 0) >= 40) AND (round(((datediff(current_date(Some(Asia/Calcutta)), coalesce(id#1658, 0)) / 365) + id#1658), 0) < 50)) THEN 40-49 WHEN ((round(((datediff(current_date(Some(Asia/Calcutta)), coalesce(id#1658, 0)) / 365) + id#1658), 0) >= 50) AND (round(((datediff(current_date(Some(Asia/Calcutta)), coalesce(id#1658, 0)) / 365) + id#1658), 0) < 60)) THEN 50-59 WHEN (round(((datediff(current_date(Some(Asia/Calcutta)), coalesce(id#1658, 0)) / 365) + id#1658), 0) > 60) THEN 60+ ELSE 2 END AS agegroup#4920]\n+- SubqueryAlias `u`\n   +- RelationV2[id#1658, wealth_crores#1659, target#1660] csv file:/D:/spark/def_wealth1.csv\n\r\n\tat org.apache.spark.sql.catalyst.analysis.package$AnalysisErrorAt.failAnalysis(package.scala:42)\r\n\tat org.apache.spark.sql.catalyst.analysis.CheckAnalysis$$anonfun$$nestedInanonfun$checkAnalysis$1$2.applyOrElse(CheckAnalysis.scala:146)\r\n\tat org.apache.spark.sql.catalyst.analysis.CheckAnalysis$$anonfun$$nestedInanonfun$checkAnalysis$1$2.applyOrElse(CheckAnalysis.scala:137)\r\n\tat org.apache.spark.sql.catalyst.trees.TreeNode.$anonfun$transformUp$2(TreeNode.scala:310)\r\n\tat org.apache.spark.sql.catalyst.trees.CurrentOrigin$.withOrigin(TreeNode.scala:72)\r\n\tat org.apache.spark.sql.catalyst.trees.TreeNode.transformUp(TreeNode.scala:310)\r\n\tat org.apache.spark.sql.catalyst.trees.TreeNode.$anonfun$transformUp$1(TreeNode.scala:307)\r\n\tat org.apache.spark.sql.catalyst.trees.TreeNode.$anonfun$mapChildren$1(TreeNode.scala:376)\r\n\tat org.apache.spark.sql.catalyst.trees.TreeNode.mapProductIterator(TreeNode.scala:214)\r\n\tat org.apache.spark.sql.catalyst.trees.TreeNode.mapChildren(TreeNode.scala:374)\r\n\tat org.apache.spark.sql.catalyst.trees.TreeNode.mapChildren(TreeNode.scala:327)\r\n\tat org.apache.spark.sql.catalyst.trees.TreeNode.transformUp(TreeNode.scala:307)\r\n\tat org.apache.spark.sql.catalyst.trees.TreeNode.$anonfun$transformUp$1(TreeNode.scala:307)\r\n\tat org.apache.spark.sql.catalyst.trees.TreeNode.$anonfun$mapChildren$1(TreeNode.scala:376)\r\n\tat org.apache.spark.sql.catalyst.trees.TreeNode.mapProductIterator(TreeNode.scala:214)\r\n\tat org.apache.spark.sql.catalyst.trees.TreeNode.mapChildren(TreeNode.scala:374)\r\n\tat org.apache.spark.sql.catalyst.trees.TreeNode.mapChildren(TreeNode.scala:327)\r\n\tat org.apache.spark.sql.catalyst.trees.TreeNode.transformUp(TreeNode.scala:307)\r\n\tat org.apache.spark.sql.catalyst.trees.TreeNode.$anonfun$transformUp$1(TreeNode.scala:307)\r\n\tat org.apache.spark.sql.catalyst.trees.TreeNode.$anonfun$mapChildren$1(TreeNode.scala:376)\r\n\tat org.apache.spark.sql.catalyst.trees.TreeNode.mapProductIterator(TreeNode.scala:214)\r\n\tat org.apache.spark.sql.catalyst.trees.TreeNode.mapChildren(TreeNode.scala:374)\r\n\tat org.apache.spark.sql.catalyst.trees.TreeNode.mapChildren(TreeNode.scala:327)\r\n\tat org.apache.spark.sql.catalyst.trees.TreeNode.transformUp(TreeNode.scala:307)\r\n\tat org.apache.spark.sql.catalyst.trees.TreeNode.$anonfun$transformUp$1(TreeNode.scala:307)\r\n\tat org.apache.spark.sql.catalyst.trees.TreeNode.$anonfun$mapChildren$1(TreeNode.scala:376)\r\n\tat org.apache.spark.sql.catalyst.trees.TreeNode.mapProductIterator(TreeNode.scala:214)\r\n\tat org.apache.spark.sql.catalyst.trees.TreeNode.mapChildren(TreeNode.scala:374)\r\n\tat org.apache.spark.sql.catalyst.trees.TreeNode.mapChildren(TreeNode.scala:327)\r\n\tat org.apache.spark.sql.catalyst.trees.TreeNode.transformUp(TreeNode.scala:307)\r\n\tat org.apache.spark.sql.catalyst.trees.TreeNode.$anonfun$transformUp$1(TreeNode.scala:307)\r\n\tat org.apache.spark.sql.catalyst.trees.TreeNode.$anonfun$mapChildren$1(TreeNode.scala:376)\r\n\tat org.apache.spark.sql.catalyst.trees.TreeNode.mapProductIterator(TreeNode.scala:214)\r\n\tat org.apache.spark.sql.catalyst.trees.TreeNode.mapChildren(TreeNode.scala:374)\r\n\tat org.apache.spark.sql.catalyst.trees.TreeNode.mapChildren(TreeNode.scala:327)\r\n\tat org.apache.spark.sql.catalyst.trees.TreeNode.transformUp(TreeNode.scala:307)\r\n\tat org.apache.spark.sql.catalyst.trees.TreeNode.$anonfun$transformUp$1(TreeNode.scala:307)\r\n\tat org.apache.spark.sql.catalyst.trees.TreeNode.mapChild$2(TreeNode.scala:354)\r\n\tat org.apache.spark.sql.catalyst.trees.TreeNode.$anonfun$mapChildren$4(TreeNode.scala:404)\r\n\tat scala.collection.TraversableLike.$anonfun$map$1(TraversableLike.scala:238)\r\n\tat scala.collection.immutable.List.foreach(List.scala:392)\r\n\tat scala.collection.TraversableLike.map(TraversableLike.scala:238)\r\n\tat scala.collection.TraversableLike.map$(TraversableLike.scala:231)\r\n\tat scala.collection.immutable.List.map(List.scala:298)\r\n\tat org.apache.spark.sql.catalyst.trees.TreeNode.$anonfun$mapChildren$1(TreeNode.scala:404)\r\n\tat org.apache.spark.sql.catalyst.trees.TreeNode.mapProductIterator(TreeNode.scala:214)\r\n\tat org.apache.spark.sql.catalyst.trees.TreeNode.mapChildren(TreeNode.scala:374)\r\n\tat org.apache.spark.sql.catalyst.trees.TreeNode.mapChildren(TreeNode.scala:327)\r\n\tat org.apache.spark.sql.catalyst.trees.TreeNode.transformUp(TreeNode.scala:307)\r\n\tat org.apache.spark.sql.catalyst.trees.TreeNode.$anonfun$transformUp$1(TreeNode.scala:307)\r\n\tat org.apache.spark.sql.catalyst.trees.TreeNode.$anonfun$mapChildren$1(TreeNode.scala:376)\r\n\tat org.apache.spark.sql.catalyst.trees.TreeNode.mapProductIterator(TreeNode.scala:214)\r\n\tat org.apache.spark.sql.catalyst.trees.TreeNode.mapChildren(TreeNode.scala:374)\r\n\tat org.apache.spark.sql.catalyst.trees.TreeNode.mapChildren(TreeNode.scala:327)\r\n\tat org.apache.spark.sql.catalyst.trees.TreeNode.transformUp(TreeNode.scala:307)\r\n\tat org.apache.spark.sql.catalyst.plans.QueryPlan.$anonfun$transformExpressionsUp$1(QueryPlan.scala:97)\r\n\tat org.apache.spark.sql.catalyst.plans.QueryPlan.$anonfun$mapExpressions$1(QueryPlan.scala:109)\r\n\tat org.apache.spark.sql.catalyst.trees.CurrentOrigin$.withOrigin(TreeNode.scala:72)\r\n\tat org.apache.spark.sql.catalyst.plans.QueryPlan.transformExpression$1(QueryPlan.scala:109)\r\n\tat org.apache.spark.sql.catalyst.plans.QueryPlan.recursiveTransform$1(QueryPlan.scala:120)\r\n\tat org.apache.spark.sql.catalyst.plans.QueryPlan.$anonfun$mapExpressions$3(QueryPlan.scala:125)\r\n\tat scala.collection.TraversableLike.$anonfun$map$1(TraversableLike.scala:238)\r\n\tat scala.collection.immutable.List.foreach(List.scala:392)\r\n\tat scala.collection.TraversableLike.map(TraversableLike.scala:238)\r\n\tat scala.collection.TraversableLike.map$(TraversableLike.scala:231)\r\n\tat scala.collection.immutable.List.map(List.scala:298)\r\n\tat org.apache.spark.sql.catalyst.plans.QueryPlan.recursiveTransform$1(QueryPlan.scala:125)\r\n\tat org.apache.spark.sql.catalyst.plans.QueryPlan.$anonfun$mapExpressions$4(QueryPlan.scala:130)\r\n\tat org.apache.spark.sql.catalyst.trees.TreeNode.mapProductIterator(TreeNode.scala:214)\r\n\tat org.apache.spark.sql.catalyst.plans.QueryPlan.mapExpressions(QueryPlan.scala:130)\r\n\tat org.apache.spark.sql.catalyst.plans.QueryPlan.transformExpressionsUp(QueryPlan.scala:97)\r\n\tat org.apache.spark.sql.catalyst.analysis.CheckAnalysis.$anonfun$checkAnalysis$1(CheckAnalysis.scala:137)\r\n\tat org.apache.spark.sql.catalyst.analysis.CheckAnalysis.$anonfun$checkAnalysis$1$adapted(CheckAnalysis.scala:91)\r\n\tat org.apache.spark.sql.catalyst.trees.TreeNode.foreachUp(TreeNode.scala:154)\r\n\tat org.apache.spark.sql.catalyst.analysis.CheckAnalysis.checkAnalysis(CheckAnalysis.scala:91)\r\n\tat org.apache.spark.sql.catalyst.analysis.CheckAnalysis.checkAnalysis$(CheckAnalysis.scala:88)\r\n\tat org.apache.spark.sql.catalyst.analysis.Analyzer.checkAnalysis(Analyzer.scala:122)\r\n\tat org.apache.spark.sql.catalyst.analysis.Analyzer.$anonfun$executeAndCheck$1(Analyzer.scala:148)\r\n\tat org.apache.spark.sql.catalyst.plans.logical.AnalysisHelper$.markInAnalyzer(AnalysisHelper.scala:201)\r\n\tat org.apache.spark.sql.catalyst.analysis.Analyzer.executeAndCheck(Analyzer.scala:145)\r\n\tat org.apache.spark.sql.execution.QueryExecution.$anonfun$analyzed$1(QueryExecution.scala:69)\r\n\tat org.apache.spark.sql.catalyst.QueryPlanningTracker.measurePhase(QueryPlanningTracker.scala:111)\r\n\tat org.apache.spark.sql.execution.QueryExecution.analyzed$lzycompute(QueryExecution.scala:66)\r\n\tat org.apache.spark.sql.execution.QueryExecution.analyzed(QueryExecution.scala:66)\r\n\tat org.apache.spark.sql.execution.QueryExecution.assertAnalyzed(QueryExecution.scala:58)\r\n\tat org.apache.spark.sql.Dataset$.ofRows(Dataset.scala:87)\r\n\tat org.apache.spark.sql.Dataset.org$apache$spark$sql$Dataset$$withPlan(Dataset.scala:3501)\r\n\tat org.apache.spark.sql.Dataset.select(Dataset.scala:1430)\r\n\tat org.apache.spark.sql.Dataset.withColumns(Dataset.scala:2289)\r\n\tat org.apache.spark.sql.Dataset.withColumn(Dataset.scala:2256)\r\n\tat jdk.internal.reflect.GeneratedMethodAccessor79.invoke(Unknown Source)\r\n\tat java.base/jdk.internal.reflect.DelegatingMethodAccessorImpl.invoke(DelegatingMethodAccessorImpl.java:43)\r\n\tat java.base/java.lang.reflect.Method.invoke(Method.java:564)\r\n\tat py4j.reflection.MethodInvoker.invoke(MethodInvoker.java:244)\r\n\tat py4j.reflection.ReflectionEngine.invoke(ReflectionEngine.java:357)\r\n\tat py4j.Gateway.invoke(Gateway.java:282)\r\n\tat py4j.commands.AbstractCommand.invokeMethod(AbstractCommand.java:132)\r\n\tat py4j.commands.CallCommand.execute(CallCommand.java:79)\r\n\tat py4j.GatewayConnection.run(GatewayConnection.java:238)\r\n\tat java.base/java.lang.Thread.run(Thread.java:832)\r\n",
      "\nDuring handling of the above exception, another exception occurred:\n",
      "\u001b[1;31mAnalysisException\u001b[0m                         Traceback (most recent call last)",
      "\u001b[1;32m<ipython-input-196-247a7d88bede>\u001b[0m in \u001b[0;36m<module>\u001b[1;34m\u001b[0m\n\u001b[1;32m----> 1\u001b[1;33m u = wel1.alias(\"u\").withColumn(\"agegroup\", \n\u001b[0m\u001b[0;32m      2\u001b[0m     \u001b[0mF\u001b[0m\u001b[1;33m.\u001b[0m\u001b[0mwhen\u001b[0m\u001b[1;33m(\u001b[0m\u001b[1;33m(\u001b[0m\u001b[1;33m(\u001b[0m\u001b[0mF\u001b[0m\u001b[1;33m.\u001b[0m\u001b[0mround\u001b[0m\u001b[1;33m(\u001b[0m\u001b[1;33m(\u001b[0m\u001b[0mF\u001b[0m\u001b[1;33m.\u001b[0m\u001b[0mdatediff\u001b[0m\u001b[1;33m(\u001b[0m\u001b[0mF\u001b[0m\u001b[1;33m.\u001b[0m\u001b[0mcurrent_date\u001b[0m\u001b[1;33m(\u001b[0m\u001b[1;33m)\u001b[0m\u001b[1;33m,\u001b[0m \u001b[0mF\u001b[0m\u001b[1;33m.\u001b[0m\u001b[0mcoalesce\u001b[0m\u001b[1;33m(\u001b[0m\u001b[0mF\u001b[0m\u001b[1;33m.\u001b[0m\u001b[0mcol\u001b[0m\u001b[1;33m(\u001b[0m\u001b[1;34m\"u.id\"\u001b[0m\u001b[1;33m)\u001b[0m\u001b[1;33m,\u001b[0m \u001b[0mF\u001b[0m\u001b[1;33m.\u001b[0m\u001b[0mlit\u001b[0m\u001b[1;33m(\u001b[0m\u001b[1;36m0\u001b[0m\u001b[1;33m)\u001b[0m\u001b[1;33m)\u001b[0m\u001b[1;33m)\u001b[0m\u001b[1;33m/\u001b[0m\u001b[1;36m365\u001b[0m \u001b[1;33m)\u001b[0m \u001b[1;33m+\u001b[0m \u001b[0mF\u001b[0m\u001b[1;33m.\u001b[0m\u001b[0mcol\u001b[0m\u001b[1;33m(\u001b[0m\u001b[1;34m\"u.id\"\u001b[0m\u001b[1;33m)\u001b[0m\u001b[1;33m,\u001b[0m \u001b[1;36m0\u001b[0m\u001b[1;33m)\u001b[0m \u001b[1;33m>\u001b[0m \u001b[1;36m0\u001b[0m\u001b[1;33m)\u001b[0m \u001b[1;33m&\u001b[0m \u001b[1;33m(\u001b[0m\u001b[0mF\u001b[0m\u001b[1;33m.\u001b[0m\u001b[0mround\u001b[0m\u001b[1;33m(\u001b[0m\u001b[1;33m(\u001b[0m\u001b[0mF\u001b[0m\u001b[1;33m.\u001b[0m\u001b[0mdatediff\u001b[0m\u001b[1;33m(\u001b[0m\u001b[0mF\u001b[0m\u001b[1;33m.\u001b[0m\u001b[0mcurrent_date\u001b[0m\u001b[1;33m(\u001b[0m\u001b[1;33m)\u001b[0m\u001b[1;33m,\u001b[0m \u001b[0mF\u001b[0m\u001b[1;33m.\u001b[0m\u001b[0mcoalesce\u001b[0m\u001b[1;33m(\u001b[0m\u001b[0mF\u001b[0m\u001b[1;33m.\u001b[0m\u001b[0mcol\u001b[0m\u001b[1;33m(\u001b[0m\u001b[1;34m\"u.id\"\u001b[0m\u001b[1;33m)\u001b[0m\u001b[1;33m,\u001b[0m \u001b[0mF\u001b[0m\u001b[1;33m.\u001b[0m\u001b[0mlit\u001b[0m\u001b[1;33m(\u001b[0m\u001b[1;36m0\u001b[0m\u001b[1;33m)\u001b[0m\u001b[1;33m)\u001b[0m\u001b[1;33m)\u001b[0m \u001b[1;33m/\u001b[0m \u001b[1;36m365\u001b[0m\u001b[1;33m)\u001b[0m \u001b[1;33m+\u001b[0m \u001b[0mF\u001b[0m\u001b[1;33m.\u001b[0m\u001b[0mcol\u001b[0m\u001b[1;33m(\u001b[0m\u001b[1;34m\"u.id\"\u001b[0m\u001b[1;33m)\u001b[0m\u001b[1;33m,\u001b[0m\u001b[1;36m0\u001b[0m\u001b[1;33m)\u001b[0m \u001b[1;33m<\u001b[0m \u001b[1;36m20\u001b[0m\u001b[1;33m)\u001b[0m\u001b[1;33m)\u001b[0m\u001b[1;33m,\u001b[0m \u001b[1;34m\"0-19\"\u001b[0m\u001b[1;33m)\u001b[0m\u001b[1;33m\u001b[0m\u001b[1;33m\u001b[0m\u001b[0m\n\u001b[0;32m      3\u001b[0m     \u001b[1;33m.\u001b[0m\u001b[0mwhen\u001b[0m\u001b[1;33m(\u001b[0m\u001b[1;33m(\u001b[0m\u001b[1;33m(\u001b[0m\u001b[0mF\u001b[0m\u001b[1;33m.\u001b[0m\u001b[0mround\u001b[0m\u001b[1;33m(\u001b[0m\u001b[1;33m(\u001b[0m\u001b[0mF\u001b[0m\u001b[1;33m.\u001b[0m\u001b[0mdatediff\u001b[0m\u001b[1;33m(\u001b[0m\u001b[0mF\u001b[0m\u001b[1;33m.\u001b[0m\u001b[0mcurrent_date\u001b[0m\u001b[1;33m(\u001b[0m\u001b[1;33m)\u001b[0m\u001b[1;33m,\u001b[0m \u001b[0mF\u001b[0m\u001b[1;33m.\u001b[0m\u001b[0mcoalesce\u001b[0m\u001b[1;33m(\u001b[0m\u001b[0mF\u001b[0m\u001b[1;33m.\u001b[0m\u001b[0mcol\u001b[0m\u001b[1;33m(\u001b[0m\u001b[1;34m\"u.id\"\u001b[0m\u001b[1;33m)\u001b[0m\u001b[1;33m,\u001b[0m \u001b[0mF\u001b[0m\u001b[1;33m.\u001b[0m\u001b[0mlit\u001b[0m\u001b[1;33m(\u001b[0m\u001b[1;36m0\u001b[0m\u001b[1;33m)\u001b[0m\u001b[1;33m)\u001b[0m\u001b[1;33m)\u001b[0m \u001b[1;33m/\u001b[0m \u001b[1;36m365\u001b[0m\u001b[1;33m)\u001b[0m \u001b[1;33m+\u001b[0m \u001b[0mF\u001b[0m\u001b[1;33m.\u001b[0m\u001b[0mcol\u001b[0m\u001b[1;33m(\u001b[0m\u001b[1;34m\"u.id\"\u001b[0m\u001b[1;33m)\u001b[0m\u001b[1;33m,\u001b[0m\u001b[1;36m0\u001b[0m\u001b[1;33m)\u001b[0m \u001b[1;33m>=\u001b[0m \u001b[1;36m20\u001b[0m\u001b[1;33m)\u001b[0m \u001b[1;33m&\u001b[0m \u001b[1;33m(\u001b[0m\u001b[0mF\u001b[0m\u001b[1;33m.\u001b[0m\u001b[0mround\u001b[0m\u001b[1;33m(\u001b[0m\u001b[1;33m(\u001b[0m\u001b[0mF\u001b[0m\u001b[1;33m.\u001b[0m\u001b[0mdatediff\u001b[0m\u001b[1;33m(\u001b[0m\u001b[0mF\u001b[0m\u001b[1;33m.\u001b[0m\u001b[0mcurrent_date\u001b[0m\u001b[1;33m(\u001b[0m\u001b[1;33m)\u001b[0m\u001b[1;33m,\u001b[0m \u001b[0mF\u001b[0m\u001b[1;33m.\u001b[0m\u001b[0mcoalesce\u001b[0m\u001b[1;33m(\u001b[0m\u001b[0mF\u001b[0m\u001b[1;33m.\u001b[0m\u001b[0mcol\u001b[0m\u001b[1;33m(\u001b[0m\u001b[1;34m\"u.id\"\u001b[0m\u001b[1;33m)\u001b[0m\u001b[1;33m,\u001b[0m \u001b[0mF\u001b[0m\u001b[1;33m.\u001b[0m\u001b[0mlit\u001b[0m\u001b[1;33m(\u001b[0m\u001b[1;36m0\u001b[0m\u001b[1;33m)\u001b[0m\u001b[1;33m)\u001b[0m\u001b[1;33m)\u001b[0m \u001b[1;33m/\u001b[0m \u001b[1;36m365\u001b[0m\u001b[1;33m)\u001b[0m \u001b[1;33m+\u001b[0m \u001b[0mF\u001b[0m\u001b[1;33m.\u001b[0m\u001b[0mcol\u001b[0m\u001b[1;33m(\u001b[0m\u001b[1;34m\"u.id\"\u001b[0m\u001b[1;33m)\u001b[0m\u001b[1;33m,\u001b[0m\u001b[1;36m0\u001b[0m\u001b[1;33m)\u001b[0m \u001b[1;33m<\u001b[0m \u001b[1;36m30\u001b[0m\u001b[1;33m)\u001b[0m\u001b[1;33m)\u001b[0m\u001b[1;33m,\u001b[0m \u001b[1;34m\"20-29\"\u001b[0m\u001b[1;33m)\u001b[0m\u001b[1;33m\u001b[0m\u001b[1;33m\u001b[0m\u001b[0m\n\u001b[0;32m      4\u001b[0m     \u001b[1;33m.\u001b[0m\u001b[0mwhen\u001b[0m\u001b[1;33m(\u001b[0m\u001b[1;33m(\u001b[0m\u001b[1;33m(\u001b[0m\u001b[0mF\u001b[0m\u001b[1;33m.\u001b[0m\u001b[0mround\u001b[0m\u001b[1;33m(\u001b[0m\u001b[1;33m(\u001b[0m\u001b[0mF\u001b[0m\u001b[1;33m.\u001b[0m\u001b[0mdatediff\u001b[0m\u001b[1;33m(\u001b[0m\u001b[0mF\u001b[0m\u001b[1;33m.\u001b[0m\u001b[0mcurrent_date\u001b[0m\u001b[1;33m(\u001b[0m\u001b[1;33m)\u001b[0m\u001b[1;33m,\u001b[0m \u001b[0mF\u001b[0m\u001b[1;33m.\u001b[0m\u001b[0mcoalesce\u001b[0m\u001b[1;33m(\u001b[0m\u001b[0mF\u001b[0m\u001b[1;33m.\u001b[0m\u001b[0mcol\u001b[0m\u001b[1;33m(\u001b[0m\u001b[1;34m\"u.id\"\u001b[0m\u001b[1;33m)\u001b[0m\u001b[1;33m,\u001b[0m \u001b[0mF\u001b[0m\u001b[1;33m.\u001b[0m\u001b[0mlit\u001b[0m\u001b[1;33m(\u001b[0m\u001b[1;36m0\u001b[0m\u001b[1;33m)\u001b[0m\u001b[1;33m)\u001b[0m\u001b[1;33m)\u001b[0m \u001b[1;33m/\u001b[0m \u001b[1;36m365\u001b[0m\u001b[1;33m)\u001b[0m \u001b[1;33m+\u001b[0m \u001b[0mF\u001b[0m\u001b[1;33m.\u001b[0m\u001b[0mcol\u001b[0m\u001b[1;33m(\u001b[0m\u001b[1;34m\"u.id\"\u001b[0m\u001b[1;33m)\u001b[0m\u001b[1;33m,\u001b[0m \u001b[1;36m0\u001b[0m\u001b[1;33m)\u001b[0m \u001b[1;33m>=\u001b[0m \u001b[1;36m30\u001b[0m\u001b[1;33m)\u001b[0m \u001b[1;33m&\u001b[0m \u001b[1;33m(\u001b[0m\u001b[0mF\u001b[0m\u001b[1;33m.\u001b[0m\u001b[0mround\u001b[0m\u001b[1;33m(\u001b[0m\u001b[1;33m(\u001b[0m\u001b[0mF\u001b[0m\u001b[1;33m.\u001b[0m\u001b[0mdatediff\u001b[0m\u001b[1;33m(\u001b[0m\u001b[0mF\u001b[0m\u001b[1;33m.\u001b[0m\u001b[0mcurrent_date\u001b[0m\u001b[1;33m(\u001b[0m\u001b[1;33m)\u001b[0m\u001b[1;33m,\u001b[0m \u001b[0mF\u001b[0m\u001b[1;33m.\u001b[0m\u001b[0mcoalesce\u001b[0m\u001b[1;33m(\u001b[0m\u001b[0mF\u001b[0m\u001b[1;33m.\u001b[0m\u001b[0mcol\u001b[0m\u001b[1;33m(\u001b[0m\u001b[1;34m\"u.id\"\u001b[0m\u001b[1;33m)\u001b[0m\u001b[1;33m,\u001b[0m \u001b[0mF\u001b[0m\u001b[1;33m.\u001b[0m\u001b[0mlit\u001b[0m\u001b[1;33m(\u001b[0m\u001b[1;36m0\u001b[0m\u001b[1;33m)\u001b[0m\u001b[1;33m)\u001b[0m\u001b[1;33m)\u001b[0m \u001b[1;33m/\u001b[0m \u001b[1;36m365\u001b[0m\u001b[1;33m)\u001b[0m \u001b[1;33m+\u001b[0m \u001b[0mF\u001b[0m\u001b[1;33m.\u001b[0m\u001b[0mcol\u001b[0m\u001b[1;33m(\u001b[0m\u001b[1;34m\"u.id\"\u001b[0m\u001b[1;33m)\u001b[0m\u001b[1;33m,\u001b[0m\u001b[1;36m0\u001b[0m\u001b[1;33m)\u001b[0m \u001b[1;33m<\u001b[0m \u001b[1;36m40\u001b[0m\u001b[1;33m)\u001b[0m\u001b[1;33m)\u001b[0m\u001b[1;33m,\u001b[0m \u001b[1;34m\"30-39\"\u001b[0m\u001b[1;33m)\u001b[0m\u001b[1;33m\u001b[0m\u001b[1;33m\u001b[0m\u001b[0m\n\u001b[0;32m      5\u001b[0m     \u001b[1;33m.\u001b[0m\u001b[0mwhen\u001b[0m\u001b[1;33m(\u001b[0m\u001b[1;33m(\u001b[0m\u001b[1;33m(\u001b[0m\u001b[0mF\u001b[0m\u001b[1;33m.\u001b[0m\u001b[0mround\u001b[0m\u001b[1;33m(\u001b[0m\u001b[1;33m(\u001b[0m\u001b[0mF\u001b[0m\u001b[1;33m.\u001b[0m\u001b[0mdatediff\u001b[0m\u001b[1;33m(\u001b[0m\u001b[0mF\u001b[0m\u001b[1;33m.\u001b[0m\u001b[0mcurrent_date\u001b[0m\u001b[1;33m(\u001b[0m\u001b[1;33m)\u001b[0m\u001b[1;33m,\u001b[0m \u001b[0mF\u001b[0m\u001b[1;33m.\u001b[0m\u001b[0mcoalesce\u001b[0m\u001b[1;33m(\u001b[0m\u001b[0mF\u001b[0m\u001b[1;33m.\u001b[0m\u001b[0mcol\u001b[0m\u001b[1;33m(\u001b[0m\u001b[1;34m\"u.id\"\u001b[0m\u001b[1;33m)\u001b[0m\u001b[1;33m,\u001b[0m \u001b[0mF\u001b[0m\u001b[1;33m.\u001b[0m\u001b[0mlit\u001b[0m\u001b[1;33m(\u001b[0m\u001b[1;36m0\u001b[0m\u001b[1;33m)\u001b[0m\u001b[1;33m)\u001b[0m\u001b[1;33m)\u001b[0m \u001b[1;33m/\u001b[0m \u001b[1;36m365\u001b[0m\u001b[1;33m)\u001b[0m \u001b[1;33m+\u001b[0m \u001b[0mF\u001b[0m\u001b[1;33m.\u001b[0m\u001b[0mcol\u001b[0m\u001b[1;33m(\u001b[0m\u001b[1;34m\"u.id\"\u001b[0m\u001b[1;33m)\u001b[0m\u001b[1;33m,\u001b[0m \u001b[1;36m0\u001b[0m\u001b[1;33m)\u001b[0m \u001b[1;33m>=\u001b[0m \u001b[1;36m40\u001b[0m\u001b[1;33m)\u001b[0m \u001b[1;33m&\u001b[0m \u001b[1;33m(\u001b[0m\u001b[0mF\u001b[0m\u001b[1;33m.\u001b[0m\u001b[0mround\u001b[0m\u001b[1;33m(\u001b[0m\u001b[1;33m(\u001b[0m\u001b[0mF\u001b[0m\u001b[1;33m.\u001b[0m\u001b[0mdatediff\u001b[0m\u001b[1;33m(\u001b[0m\u001b[0mF\u001b[0m\u001b[1;33m.\u001b[0m\u001b[0mcurrent_date\u001b[0m\u001b[1;33m(\u001b[0m\u001b[1;33m)\u001b[0m\u001b[1;33m,\u001b[0m \u001b[0mF\u001b[0m\u001b[1;33m.\u001b[0m\u001b[0mcoalesce\u001b[0m\u001b[1;33m(\u001b[0m\u001b[0mF\u001b[0m\u001b[1;33m.\u001b[0m\u001b[0mcol\u001b[0m\u001b[1;33m(\u001b[0m\u001b[1;34m\"u.id\"\u001b[0m\u001b[1;33m)\u001b[0m\u001b[1;33m,\u001b[0m \u001b[0mF\u001b[0m\u001b[1;33m.\u001b[0m\u001b[0mlit\u001b[0m\u001b[1;33m(\u001b[0m\u001b[1;36m0\u001b[0m\u001b[1;33m)\u001b[0m\u001b[1;33m)\u001b[0m\u001b[1;33m)\u001b[0m \u001b[1;33m/\u001b[0m \u001b[1;36m365\u001b[0m\u001b[1;33m)\u001b[0m \u001b[1;33m+\u001b[0m \u001b[0mF\u001b[0m\u001b[1;33m.\u001b[0m\u001b[0mcol\u001b[0m\u001b[1;33m(\u001b[0m\u001b[1;34m\"u.id\"\u001b[0m\u001b[1;33m)\u001b[0m\u001b[1;33m,\u001b[0m\u001b[1;36m0\u001b[0m\u001b[1;33m)\u001b[0m \u001b[1;33m<\u001b[0m \u001b[1;36m50\u001b[0m\u001b[1;33m)\u001b[0m\u001b[1;33m)\u001b[0m\u001b[1;33m,\u001b[0m \u001b[1;34m\"40-49\"\u001b[0m\u001b[1;33m)\u001b[0m\u001b[1;33m\u001b[0m\u001b[1;33m\u001b[0m\u001b[0m\n",
      "\u001b[1;32mD:\\spark\\spark-3.0.0-preview2-bin-hadoop2.7\\python\\pyspark\\sql\\dataframe.py\u001b[0m in \u001b[0;36mwithColumn\u001b[1;34m(self, colName, col)\u001b[0m\n\u001b[0;32m   2043\u001b[0m         \"\"\"\n\u001b[0;32m   2044\u001b[0m         \u001b[1;32massert\u001b[0m \u001b[0misinstance\u001b[0m\u001b[1;33m(\u001b[0m\u001b[0mcol\u001b[0m\u001b[1;33m,\u001b[0m \u001b[0mColumn\u001b[0m\u001b[1;33m)\u001b[0m\u001b[1;33m,\u001b[0m \u001b[1;34m\"col should be Column\"\u001b[0m\u001b[1;33m\u001b[0m\u001b[1;33m\u001b[0m\u001b[0m\n\u001b[1;32m-> 2045\u001b[1;33m         \u001b[1;32mreturn\u001b[0m \u001b[0mDataFrame\u001b[0m\u001b[1;33m(\u001b[0m\u001b[0mself\u001b[0m\u001b[1;33m.\u001b[0m\u001b[0m_jdf\u001b[0m\u001b[1;33m.\u001b[0m\u001b[0mwithColumn\u001b[0m\u001b[1;33m(\u001b[0m\u001b[0mcolName\u001b[0m\u001b[1;33m,\u001b[0m \u001b[0mcol\u001b[0m\u001b[1;33m.\u001b[0m\u001b[0m_jc\u001b[0m\u001b[1;33m)\u001b[0m\u001b[1;33m,\u001b[0m \u001b[0mself\u001b[0m\u001b[1;33m.\u001b[0m\u001b[0msql_ctx\u001b[0m\u001b[1;33m)\u001b[0m\u001b[1;33m\u001b[0m\u001b[1;33m\u001b[0m\u001b[0m\n\u001b[0m\u001b[0;32m   2046\u001b[0m \u001b[1;33m\u001b[0m\u001b[0m\n\u001b[0;32m   2047\u001b[0m     \u001b[1;33m@\u001b[0m\u001b[0mignore_unicode_prefix\u001b[0m\u001b[1;33m\u001b[0m\u001b[1;33m\u001b[0m\u001b[0m\n",
      "\u001b[1;32m~\\anaconda3\\lib\\site-packages\\py4j\\java_gateway.py\u001b[0m in \u001b[0;36m__call__\u001b[1;34m(self, *args)\u001b[0m\n\u001b[0;32m   1283\u001b[0m \u001b[1;33m\u001b[0m\u001b[0m\n\u001b[0;32m   1284\u001b[0m         \u001b[0manswer\u001b[0m \u001b[1;33m=\u001b[0m \u001b[0mself\u001b[0m\u001b[1;33m.\u001b[0m\u001b[0mgateway_client\u001b[0m\u001b[1;33m.\u001b[0m\u001b[0msend_command\u001b[0m\u001b[1;33m(\u001b[0m\u001b[0mcommand\u001b[0m\u001b[1;33m)\u001b[0m\u001b[1;33m\u001b[0m\u001b[1;33m\u001b[0m\u001b[0m\n\u001b[1;32m-> 1285\u001b[1;33m         return_value = get_return_value(\n\u001b[0m\u001b[0;32m   1286\u001b[0m             answer, self.gateway_client, self.target_id, self.name)\n\u001b[0;32m   1287\u001b[0m \u001b[1;33m\u001b[0m\u001b[0m\n",
      "\u001b[1;32mD:\\spark\\spark-3.0.0-preview2-bin-hadoop2.7\\python\\pyspark\\sql\\utils.py\u001b[0m in \u001b[0;36mdeco\u001b[1;34m(*a, **kw)\u001b[0m\n\u001b[0;32m    100\u001b[0m             \u001b[0mconverted\u001b[0m \u001b[1;33m=\u001b[0m \u001b[0mconvert_exception\u001b[0m\u001b[1;33m(\u001b[0m\u001b[0me\u001b[0m\u001b[1;33m.\u001b[0m\u001b[0mjava_exception\u001b[0m\u001b[1;33m)\u001b[0m\u001b[1;33m\u001b[0m\u001b[1;33m\u001b[0m\u001b[0m\n\u001b[0;32m    101\u001b[0m             \u001b[1;32mif\u001b[0m \u001b[1;32mnot\u001b[0m \u001b[0misinstance\u001b[0m\u001b[1;33m(\u001b[0m\u001b[0mconverted\u001b[0m\u001b[1;33m,\u001b[0m \u001b[0mUnknownException\u001b[0m\u001b[1;33m)\u001b[0m\u001b[1;33m:\u001b[0m\u001b[1;33m\u001b[0m\u001b[1;33m\u001b[0m\u001b[0m\n\u001b[1;32m--> 102\u001b[1;33m                 \u001b[1;32mraise\u001b[0m \u001b[0mconverted\u001b[0m\u001b[1;33m\u001b[0m\u001b[1;33m\u001b[0m\u001b[0m\n\u001b[0m\u001b[0;32m    103\u001b[0m             \u001b[1;32melse\u001b[0m\u001b[1;33m:\u001b[0m\u001b[1;33m\u001b[0m\u001b[1;33m\u001b[0m\u001b[0m\n\u001b[0;32m    104\u001b[0m                 \u001b[1;32mraise\u001b[0m\u001b[1;33m\u001b[0m\u001b[1;33m\u001b[0m\u001b[0m\n",
      "\u001b[1;31mAnalysisException\u001b[0m: cannot resolve 'datediff(current_date(), coalesce(u.`id`, 0))' due to data type mismatch: argument 2 requires date type, however, 'coalesce(u.`id`, 0)' is of int type.;;\n'Project [id#1658, wealth_crores#1659, target#1660, CASE WHEN ((round(((datediff(current_date(Some(Asia/Calcutta)), coalesce(id#1658, 0)) / 365) + id#1658), 0) > 0) AND (round(((datediff(current_date(Some(Asia/Calcutta)), coalesce(id#1658, 0)) / 365) + id#1658), 0) < 20)) THEN 0-19 WHEN ((round(((datediff(current_date(Some(Asia/Calcutta)), coalesce(id#1658, 0)) / 365) + id#1658), 0) >= 20) AND (round(((datediff(current_date(Some(Asia/Calcutta)), coalesce(id#1658, 0)) / 365) + id#1658), 0) < 30)) THEN 20-29 WHEN ((round(((datediff(current_date(Some(Asia/Calcutta)), coalesce(id#1658, 0)) / 365) + id#1658), 0) >= 30) AND (round(((datediff(current_date(Some(Asia/Calcutta)), coalesce(id#1658, 0)) / 365) + id#1658), 0) < 40)) THEN 30-39 WHEN ((round(((datediff(current_date(Some(Asia/Calcutta)), coalesce(id#1658, 0)) / 365) + id#1658), 0) >= 40) AND (round(((datediff(current_date(Some(Asia/Calcutta)), coalesce(id#1658, 0)) / 365) + id#1658), 0) < 50)) THEN 40-49 WHEN ((round(((datediff(current_date(Some(Asia/Calcutta)), coalesce(id#1658, 0)) / 365) + id#1658), 0) >= 50) AND (round(((datediff(current_date(Some(Asia/Calcutta)), coalesce(id#1658, 0)) / 365) + id#1658), 0) < 60)) THEN 50-59 WHEN (round(((datediff(current_date(Some(Asia/Calcutta)), coalesce(id#1658, 0)) / 365) + id#1658), 0) > 60) THEN 60+ ELSE 2 END AS agegroup#4920]\n+- SubqueryAlias `u`\n   +- RelationV2[id#1658, wealth_crores#1659, target#1660] csv file:/D:/spark/def_wealth1.csv\n"
     ]
    }
   ],
   "source": [
    "u = wel1.alias(\"u\").withColumn(\"agegroup\", \n",
    "    F.when(((F.round((F.datediff(F.current_date(), F.coalesce(F.col(\"u.id\"), F.lit(0)))/365 ) + F.col(\"u.id\"), 0) > 0) & (F.round((F.datediff(F.current_date(), F.coalesce(F.col(\"u.id\"), F.lit(0))) / 365) + F.col(\"u.id\"),0) < 20)), \"0-19\")\n",
    "    .when(((F.round((F.datediff(F.current_date(), F.coalesce(F.col(\"u.id\"), F.lit(0))) / 365) + F.col(\"u.id\"),0) >= 20) & (F.round((F.datediff(F.current_date(), F.coalesce(F.col(\"u.id\"), F.lit(0))) / 365) + F.col(\"u.id\"),0) < 30)), \"20-29\")\n",
    "    .when(((F.round((F.datediff(F.current_date(), F.coalesce(F.col(\"u.id\"), F.lit(0))) / 365) + F.col(\"u.id\"), 0) >= 30) & (F.round((F.datediff(F.current_date(), F.coalesce(F.col(\"u.id\"), F.lit(0))) / 365) + F.col(\"u.id\"),0) < 40)), \"30-39\")\n",
    "    .when(((F.round((F.datediff(F.current_date(), F.coalesce(F.col(\"u.id\"), F.lit(0))) / 365) + F.col(\"u.id\"), 0) >= 40) & (F.round((F.datediff(F.current_date(), F.coalesce(F.col(\"u.id\"), F.lit(0))) / 365) + F.col(\"u.id\"),0) < 50)), \"40-49\")\n",
    "    .when(((F.round((F.datediff(F.current_date(), F.coalesce(F.col(\"u.id\"), lit(0))) / 365) + F.col(\"u.id\"), 0) >= 50) & (F.round((F.datediff(F.current_date(), F.coalesce(F.col(\"u.id\"), F.lit(0))) / 365) + F.col(\"u.id\"),0) < 60)), \"50-59\")\n",
    "    .when((F.round((F.datediff(F.current_date(), F.coalesce(F.col(\"u.id\"), F.lit(0))) / 365) + F.col(\"u.id\"), 0) > 60), \"60+\")\n",
    "    .otherwise(2))"
   ]
  },
  {
   "cell_type": "code",
   "execution_count": 199,
   "id": "39e91fd1",
   "metadata": {},
   "outputs": [],
   "source": [
    "from pyspark.sql import DataFrame, SparkSession\n",
    "from typing import List\n",
    "import pyspark.sql.functions as F\n",
    "\n",
    "def transform(spark_session: SparkSession, inputs: List[DataFrame], credentials=None) -> DataFrame:\n",
    "    \"\"\"Transforms input DataFrame(s) and returns a single DataFrame as a result\n",
    "\n",
    "    # Arguments\n",
    "    spark_session -- Entrypoint into PySpark's Dataset and DataFrame API\n",
    "    inputs        -- A nonempty List of the input components for this Transform. The index of each\n",
    "                     input in the list is determined by how the Transform is configured.\n",
    "    credentials   -- If set (in Advanced Settings), this variable takes upon the string value of the\n",
    "                     content of the 'Credentials Secret' field.\n",
    "\n",
    "    # Returns\n",
    "    Any object of type DataFrame\n",
    "    \"\"\"\n",
    "    uat_mysql_parents = inputs[0]\n",
    "    bo_accounts_df_uat = inputs[1]\n",
    "    bo_users = inputs[2]\n",
    "    countries_read = inputs[3]\n",
    "    age_read = inputs[4]\n",
    "\n",
    "    for column in [column for column in age_read.columns if column not in bo_users.columns]:\n",
    "        bo_users = bo_users.withColumn(column, F.lit(None))\n",
    "\n",
    "    for column in [column for column in bo_users.columns if column not in age_read.columns]:\n",
    "        age_read = age_read.withColumn(column, F.lit(None))\n",
    "    \n",
    "    \n",
    "    bo_users_df_uat = bo_users.unionByName(age_read)\n",
    "    u = bo_users_df_uat.alias(\"u\")\n",
    "    \n",
    "    u = u.withColumn(\"Age_Group\", F.when(((F.round((F.datediff(F.current_date(), F.coalesce(F.col(\"u.ageWhen\"), F.lit(0))) / 365) + F.col(\"u.age\"), 0) > 0) & (\n",
    "            F.round((F.datediff(F.current_date(), F.coalesce(F.col(\"u.ageWhen\"), F.lit(0))) / 365) + F.col(\"u.age\"),0) < 20)), \"0-19\")\\\n",
    "                    .when(((F.round((F.datediff(F.current_date(), F.coalesce(F.col(\"u.ageWhen\"), F.lit(0))) / 365) + F.col(\"u.age\"),0) >= 20) & (\n",
    "            F.round((F.datediff(F.current_date(), F.coalesce(F.col(\"u.ageWhen\"), F.lit(0))) / 365) + F.col(\"u.age\"),0) < 30)), \"20-29\")\\\n",
    "                    .when(((F.round((F.datediff(F.current_date(), F.coalesce(F.col(\"u.ageWhen\"), F.lit(0))) / 365) + F.col(\"u.age\"), 0) >= 30) & (\n",
    "            F.round((F.datediff(F.current_date(), F.coalesce(F.col(\"u.ageWhen\"), F.lit(0))) / 365) + F.col(\"u.age\"),0) < 40)), \"30-39\")\\\n",
    "                    .when(((F.round((F.datediff(F.current_date(), F.coalesce(F.col(\"u.ageWhen\"), F.lit(0))) / 365) + F.col(\"u.age\"), 0) >= 40) & (\n",
    "            F.round((F.datediff(F.current_date(), F.coalesce(F.col(\"u.ageWhen\"), F.lit(0))) / 365) + F.col(\"u.age\"),0) < 50)), \"40-49\")\\\n",
    "                    .when(((F.round((F.datediff(F.current_date(), F.coalesce(F.col(\"u.ageWhen\"), F.lit(0))) / 365) + F.col(\"u.age\"), 0) >= 50) & (\n",
    "            F.round((F.datediff(F.current_date(), F.coalesce(F.col(\"u.ageWhen\"), F.lit(0))) / 365) + F.col(\"u.age\"),0) < 60)), \"50-59\")\\\n",
    "                    .when((F.round((F.datediff(F.current_date(), F.coalesce(F.col(\"u.ageWhen\"), F.lit(0))) / 365) + F.col(\"u.age\"), 0) >= 60), \"60+\")\\\n",
    "                    .otherwise(\"Other\"))\\\n",
    "        .select(F.col(\"u.parentIbID\").alias(\"Partner_ID\"),\n",
    "            F.current_date().alias(\"Todays_Date\"),\n",
    "            # F.col(\"u.parentIbID\").alias(\"parentIbID\"),\n",
    "            F.col(\"u.countryid\").alias(\"Country_ID\"),\n",
    "            F.col(\"Age_Group\"), (\"*\")\n",
    "            )\n",
    "\n",
    "    u = u.select(F.col(\"Partner_ID\"), F.col(\"Todays_Date\"), \n",
    "    F.col(\"Country_ID\"), F.col(\"Age_Group\"), (\"*\"))\n",
    "\n",
    "    a = bo_accounts_df_uat.alias(\"a\")\\\n",
    "            .select((\"*\"))\n",
    "\n",
    "    aa = bo_accounts_df_uat.alias(\"a\")\\\n",
    "        .select(F.countDistinct(F.col(\"a.UserID\")).alias(\"Num_of_Users\"),\n",
    "                F.countDistinct(F.col(\"a.AccountID\")).alias(\"Num_of_Accts\")\n",
    "                )\n",
    "\n",
    "    pg = uat_mysql_parents.alias(\"pg\")\\\n",
    "        .select(F.coalesce(F.col(\"pg.parentname\"), F.lit(\"DriveWealth / Missing\")).alias(\"Partner_Name\"),\n",
    "        F.col(\"pg.id\").alias(\"parentid\"), (\"*\"))\n",
    "\n",
    "\n",
    "\n",
    "    cc = countries_read.alias(\"cc\")\\\n",
    "        .select((F.coalesce(F.col(\"cc.region\"), F.lit(\"Missing\"))).alias(\"User_Region\"),\n",
    "                                F.col(\"cc.description\").alias(\"User_Country_Name\"),\n",
    "                                (\"*\"))\n",
    "\n",
    "\n",
    "    c = bo_accounts_df_uat.alias('a')\\\n",
    "\t.withColumn(\"Num_of_Live_Accounts\", F.when(F.col(\"a.accounttype\") == 2, F.col(\"a.AccountID\")))\n",
    "    c.select(F.countDistinct(F.col(\"Num_of_Live_Accounts\")).alias(\"Num_of_Live_Accounts\"))\n",
    "\n",
    "    c1 = bo_accounts_df_uat.alias('a')\\\n",
    "\t.withColumn(\"Num_of_Funded_Accounts\", F.when(F.coalesce(F.col(\"bodequityvalue\"), F.lit(0)) == F.lit(0), F.col(\"a.AccountID\")))\n",
    "    c1.select(F.countDistinct(F.col(\"Num_of_Funded_Accounts\")).alias(\"Num_of_Funded_Accounts\"))\n",
    "\n",
    "    c2 = bo_accounts_df_uat.alias('a').join(bo_users_df_uat.alias('u'), F.col('u.userid') == F.col('a.userid'))\\\n",
    "        .withColumn(\"Num_of_Approved_Accounts\", F.when(F.col(\"u.approvedwhen\").isNotNull(), F.col(\"a.AccountID\")))\n",
    "    c2.select(F.countDistinct(F.col(\"Num_of_Approved_Accounts\")).alias(\"Num_of_Approved_Accounts\"))\n",
    "\n",
    "    c3 = bo_accounts_df_uat.alias('a').join(bo_users_df_uat.alias('u'), F.col('u.userid') == F.col('a.userid')) \\\n",
    "        .withColumn(\"Num_of_Approved_Users\", F.when(F.col(\"u.approvedwhen\").isNotNull(), F.col(\"a.UserID\")))\n",
    "    c3.select(F.countDistinct(F.col(\"Num_of_Approved_Users\")).alias(\"Num_of_Approved_Users\"))\n",
    "\n",
    "    t1 = bo_accounts_df_uat.alias('a')\\\n",
    "\t.withColumn(\"-\", F.when((F.coalesce(F.col(\"bodcashavailforwith\"),F.lit(0)) == F.lit(0)) & (F.coalesce(F.col(\"bodEquityValue\"),F.lit(0)) == F.lit(0)) & ((F.col(\"a.Accountno\").rlike(\"000001\")) | (F.col(\"a.Accountno\").rlike(\"DP\")) | (F.col(\"a.Accountno\").rlike(\"Dw\"))), 0)\\\n",
    "        .when((F.coalesce(F.col(\"bodcashavailforwith\"),F.lit(0)) == F.lit(0)) & (F.coalesce(F.col(\"bodEquityValue\"),F.lit(0))  < F.lit(0)), 0)\\\n",
    "        .otherwise(F.coalesce(F.col(\"bodEquityValue\"),F.lit(0))))\n",
    "    t1.select(F.sum(F.col(\"-\")).alias(\"-\"))\n",
    "\n",
    "    t2 = bo_accounts_df_uat.alias('a')\\\n",
    "\t.withColumn(\"Equity_Value\",F.when((F.coalesce(F.col(\"bodcashavailforwith\"),F.lit(0)) == F.lit(0)) & (F.coalesce(F.col(\"bodEquityValue\"),F.lit(0)) == F.lit(0)) & ((F.col(\"a.Accountno\").rlike(\"000001\")) | (F.col(\"a.Accountno\").rlike(\"DP\")) | (F.col(\"a.Accountno\").rlike(\"Dw\"))), 0)\\\n",
    "        .when((F.coalesce(F.col(\"bodcashavailforwith\"),F.lit(0)) == F.lit(0)) & (F.coalesce(F.col(\"bodEquityValue\"),F.lit(0)) < F.lit(0)), 0)\\\n",
    "        .otherwise(F.coalesce(F.col(\"bodcashavailforwith\"),F.lit(0))))\n",
    "    t2.select(F.sum(F.col(\"Equity_Value\")).alias(\"Equity_Value\"))\n",
    "\n",
    "    t3 = bo_accounts_df_uat.alias('a')\\\n",
    "\t.withColumn(\"Cash_Value\",F.when((F.coalesce(F.col(\"bodcashavailforwith\"),F.lit(0)) == F.lit(0)) & (F.coalesce(F.col(\"bodEquityValue\"),F.lit(0)) == F.lit(0)) & ((F.col(\"a.Accountno\").rlike(\"000001\")) | (F.col(\"a.Accountno\").rlike(\"DP\")) | (F.col(\"a.Accountno\").rlike(\"Dw\"))), 0)\\\n",
    "        .when((F.coalesce(F.col(\"bodcashavailforwith\"),F.lit(0)) == F.lit(0)) & (F.coalesce(F.col(\"bodEquityValue\"),F.lit(0)) < F.lit(0)), 0)\\\n",
    "        .otherwise(F.coalesce(F.col(\"bodcashavailforwith\"),F.lit(0))))\n",
    "    t3.select(F.sum(F.col(\"Cash_Value\")).alias(\"Cash_Value\"))\n",
    "\n",
    "    t4 = bo_accounts_df_uat.alias('a')\\\n",
    "\t.withColumn(\"AUM\", F.when((F.coalesce(F.col(\"bodcashavailforwith\"),F.lit(0)) == F.lit(0)) & (F.coalesce(F.col(\"bodEquityValue\"),F.lit(0)) == F.lit(0)) & ((F.col(\"a.Accountno\").rlike(\"000001\")) | (F.col(\"a.Accountno\").rlike(\"DP\")) | (F.col(\"a.Accountno\").rlike(\"Dw\"))),0)\\\n",
    "        .when((F.coalesce(F.col(\"bodcashavailforwith\"),F.lit(0))==F.lit(0)) & (F.coalesce(F.col(\"bodEquityValue\"),F.lit(0)) < F.lit(0)), 0)\\\n",
    "        .otherwise(F.coalesce(F.col(\"bodEquityValue\"),F.lit(0))))\n",
    "    t4.select(F.sum(F.col(\"AUM\")).alias(\"AUM\"))\n",
    "\n",
    "\n",
    "    u.join(a, u[\"userid\"] == a[\"userid\"], \"left_outer\")\n",
    "    u.join(pg, u[\"parentIbID\"] == pg[\"parentid\"], \"left_outer\")\n",
    "    u.join(cc, u[\"Country_ID\"] == cc[\"countryid\"], \"left_outer\")\n",
    "\n",
    "    fil = bo_users_df_uat.alias('u')\n",
    "    .join(bo_accounts_df_uat.alias('a'), F.col('u.userid') == F.col('a.userid'))\\\n",
    "        .filter((F.col(\"u.createdwhen\") < F.date_add(F.current_date(), 1)) &\n",
    "                (F.col(\"a.accounttype\") == \"2\") & (~F.col(\"a.accountNo\").isin('DWWA000001','DWWE000001','DWRS000003','DWRH000016','DWLY000001','TEMK000001','DWUV000114','DWIX000002','DWZR000071',\n",
    "'DWBP000089','CABC000001','REXM000001','STFF000001','ASTX000001','DWVX000498','EZAP000001','SIXC000001','DWMT000380',\n",
    "'BBHQ000001','SKGP000001','KLMQ000001','TRVX000001','FMGX000001','SBEK000001','FXXS000001','CTZH000001','DWHJ000206',\n",
    "'DWEE000524','GOTX000001','VSQA000001','FRZY000001','DWEF004076','HDNQ000001','RLMV000067','RLEM000001','STVS000021',\n",
    "'GOPB000003','TRQQ000001','STSN000067','ASZH000001')) &\n",
    "                (((F.coalesce(F.col(\"a.bodcashavailforwith\") , F.lit(0)) == 0) &\n",
    "                  (F.coalesce(F.col(\"a.bodEquityValue\"), F.lit(\"0\")) < 0) &\n",
    "                  (~F.col(\"a.Accountno\").rlike(\"000001\") | ~F.col(\"a.Accountno\").rlike(\"DP\") | ~F.col(\"a.Accountno\").rlike(\"Dw\")))))\n",
    "\n",
    "    g = fil.groupBy(F.current_date()).pivot(\"Accountno\")\n",
    "\n",
    "    return fil"
   ]
  },
  {
   "cell_type": "code",
   "execution_count": 201,
   "id": "4e595a56",
   "metadata": {},
   "outputs": [
    {
     "ename": "NameError",
     "evalue": "name 'bo_users_df_uat' is not defined",
     "output_type": "error",
     "traceback": [
      "\u001b[1;31m---------------------------------------------------------------------------\u001b[0m",
      "\u001b[1;31mNameError\u001b[0m                                 Traceback (most recent call last)",
      "\u001b[1;32m<ipython-input-201-c59e770a2109>\u001b[0m in \u001b[0;36m<module>\u001b[1;34m\u001b[0m\n\u001b[1;32m----> 1\u001b[1;33m \u001b[0mfil\u001b[0m \u001b[1;33m=\u001b[0m \u001b[0mbo_users_df_uat\u001b[0m\u001b[1;33m.\u001b[0m\u001b[0malias\u001b[0m\u001b[1;33m(\u001b[0m\u001b[1;34m'u'\u001b[0m\u001b[1;33m)\u001b[0m\u001b[0;31m\\\u001b[0m\u001b[1;33m\u001b[0m\u001b[1;33m\u001b[0m\u001b[0m\n\u001b[0m\u001b[0;32m      2\u001b[0m     \u001b[1;33m.\u001b[0m\u001b[0mjoin\u001b[0m\u001b[1;33m(\u001b[0m\u001b[0mbo_accounts_df_uat\u001b[0m\u001b[1;33m.\u001b[0m\u001b[0malias\u001b[0m\u001b[1;33m(\u001b[0m\u001b[1;34m'a'\u001b[0m\u001b[1;33m)\u001b[0m\u001b[1;33m,\u001b[0m \u001b[0mF\u001b[0m\u001b[1;33m.\u001b[0m\u001b[0mcol\u001b[0m\u001b[1;33m(\u001b[0m\u001b[1;34m'u.userid'\u001b[0m\u001b[1;33m)\u001b[0m \u001b[1;33m==\u001b[0m \u001b[0mF\u001b[0m\u001b[1;33m.\u001b[0m\u001b[0mcol\u001b[0m\u001b[1;33m(\u001b[0m\u001b[1;34m'a.userid'\u001b[0m\u001b[1;33m)\u001b[0m\u001b[1;33m)\u001b[0m\u001b[0;31m\\\u001b[0m\u001b[1;33m\u001b[0m\u001b[1;33m\u001b[0m\u001b[0m\n\u001b[0;32m      3\u001b[0m         .filter((F.col(\"u.createdwhen\") < F.date_add(F.current_date(), 1)) &\n\u001b[0;32m      4\u001b[0m                 (F.col(\"a.accounttype\") == \"2\") & (~F.col(\"a.accountNo\").isin('DWWA000001','DWWE000001','DWRS000003','DWRH000016','DWLY000001','TEMK000001','DWUV000114','DWIX000002','DWZR000071',\n\u001b[0;32m      5\u001b[0m \u001b[1;34m'DWBP000089'\u001b[0m\u001b[1;33m,\u001b[0m\u001b[1;34m'CABC000001'\u001b[0m\u001b[1;33m,\u001b[0m\u001b[1;34m'REXM000001'\u001b[0m\u001b[1;33m,\u001b[0m\u001b[1;34m'STFF000001'\u001b[0m\u001b[1;33m,\u001b[0m\u001b[1;34m'ASTX000001'\u001b[0m\u001b[1;33m,\u001b[0m\u001b[1;34m'DWVX000498'\u001b[0m\u001b[1;33m,\u001b[0m\u001b[1;34m'EZAP000001'\u001b[0m\u001b[1;33m,\u001b[0m\u001b[1;34m'SIXC000001'\u001b[0m\u001b[1;33m,\u001b[0m\u001b[1;34m'DWMT000380'\u001b[0m\u001b[1;33m,\u001b[0m\u001b[1;33m\u001b[0m\u001b[1;33m\u001b[0m\u001b[0m\n",
      "\u001b[1;31mNameError\u001b[0m: name 'bo_users_df_uat' is not defined"
     ]
    }
   ],
   "source": [
    "fil = bo_users_df_uat.alias('u')\\\n",
    "    .join(bo_accounts_df_uat.alias('a'), F.col('u.userid') == F.col('a.userid'))\\\n",
    "        .filter((F.col(\"u.createdwhen\") < F.date_add(F.current_date(), 1)) &\n",
    "                (F.col(\"a.accounttype\") == \"2\") & (~F.col(\"a.accountNo\").isin('DWWA000001','DWWE000001','DWRS000003','DWRH000016','DWLY000001','TEMK000001','DWUV000114','DWIX000002','DWZR000071',\n",
    "'DWBP000089','CABC000001','REXM000001','STFF000001','ASTX000001','DWVX000498','EZAP000001','SIXC000001','DWMT000380',\n",
    "'BBHQ000001','SKGP000001','KLMQ000001','TRVX000001','FMGX000001','SBEK000001','FXXS000001','CTZH000001','DWHJ000206',\n",
    "'DWEE000524','GOTX000001','VSQA000001','FRZY000001','DWEF004076','HDNQ000001','RLMV000067','RLEM000001','STVS000021',\n",
    "'GOPB000003','TRQQ000001','STSN000067','ASZH000001')) &\n",
    "                (((F.coalesce(F.col(\"a.bodcashavailforwith\") , F.lit(0)) == 0) &\n",
    "                  (F.coalesce(F.col(\"a.bodEquityValue\"), F.lit(\"0\")) < 0) &\n",
    "                  (~F.col(\"a.Accountno\").rlike(\"000001\") | ~F.col(\"a.Accountno\").rlike(\"DP\") | ~F.col(\"a.Accountno\").rlike(\"Dw\")))))\n"
   ]
  }
 ],
 "metadata": {
  "kernelspec": {
   "display_name": "Python 3",
   "language": "python",
   "name": "python3"
  },
  "language_info": {
   "codemirror_mode": {
    "name": "ipython",
    "version": 3
   },
   "file_extension": ".py",
   "mimetype": "text/x-python",
   "name": "python",
   "nbconvert_exporter": "python",
   "pygments_lexer": "ipython3",
   "version": "3.8.8"
  }
 },
 "nbformat": 4,
 "nbformat_minor": 5
}
